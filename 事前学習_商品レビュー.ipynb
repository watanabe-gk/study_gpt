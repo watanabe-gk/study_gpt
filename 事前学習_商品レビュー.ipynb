{
  "cells": [
    {
      "cell_type": "markdown",
      "metadata": {
        "id": "view-in-github",
        "colab_type": "text"
      },
      "source": [
        "<a href=\"https://colab.research.google.com/github/watanabe-gk/study_gpt/blob/main/%E4%BA%8B%E5%89%8D%E5%AD%A6%E7%BF%92_%E5%95%86%E5%93%81%E3%83%AC%E3%83%92%E3%82%99%E3%83%A5%E3%83%BC.ipynb\" target=\"_parent\"><img src=\"https://colab.research.google.com/assets/colab-badge.svg\" alt=\"Open In Colab\"/></a>"
      ]
    },
    {
      "cell_type": "code",
      "execution_count": 77,
      "metadata": {
        "id": "aYUVMv_rxBHm",
        "colab": {
          "base_uri": "https://localhost:8080/",
          "height": 34
        },
        "outputId": "501c0a4a-3d5a-496e-d81a-4bb5951e4113"
      },
      "outputs": [
        {
          "output_type": "display_data",
          "data": {
            "text/plain": [
              "<IPython.core.display.HTML object>"
            ],
            "text/html": [
              "\n",
              "  <style>\n",
              "    pre {\n",
              "        white-space: pre-wrap;\n",
              "    }\n",
              "  </style>\n",
              "  "
            ]
          },
          "metadata": {}
        },
        {
          "output_type": "stream",
          "name": "stdout",
          "text": [
            "fatal: destination path 'whiteGPT' already exists and is not an empty directory.\n"
          ]
        }
      ],
      "source": [
        "# @title モジュールのインストール\n",
        "!pip install -qq datasets==2.18\n",
        "!pip install -qq mecab-python3==1.0.8\n",
        "!pip install -qq unidic-lite\n",
        "!git clone https://github.com/Michi-123/whiteGPT.git"
      ]
    },
    {
      "cell_type": "code",
      "source": [
        "#@title Google Driveのマウント\n",
        "from google.colab import drive\n",
        "drive.mount('/content/drive')"
      ],
      "metadata": {
        "id": "UOtpvsP6W04i",
        "colab": {
          "base_uri": "https://localhost:8080/",
          "height": 34
        },
        "outputId": "e39d5f59-fd3a-4d7c-85f2-2df7ca13091e"
      },
      "execution_count": 78,
      "outputs": [
        {
          "output_type": "display_data",
          "data": {
            "text/plain": [
              "<IPython.core.display.HTML object>"
            ],
            "text/html": [
              "\n",
              "  <style>\n",
              "    pre {\n",
              "        white-space: pre-wrap;\n",
              "    }\n",
              "  </style>\n",
              "  "
            ]
          },
          "metadata": {}
        },
        {
          "output_type": "stream",
          "name": "stdout",
          "text": [
            "Drive already mounted at /content/drive; to attempt to forcibly remount, call drive.mount(\"/content/drive\", force_remount=True).\n"
          ]
        }
      ]
    },
    {
      "cell_type": "code",
      "execution_count": 79,
      "metadata": {
        "id": "qz0qSOyBxox3",
        "colab": {
          "base_uri": "https://localhost:8080/",
          "height": 17
        },
        "outputId": "94283e26-5c96-47af-94cb-83596a85e9ac"
      },
      "outputs": [
        {
          "output_type": "display_data",
          "data": {
            "text/plain": [
              "<IPython.core.display.HTML object>"
            ],
            "text/html": [
              "\n",
              "  <style>\n",
              "    pre {\n",
              "        white-space: pre-wrap;\n",
              "    }\n",
              "  </style>\n",
              "  "
            ]
          },
          "metadata": {}
        }
      ],
      "source": [
        "#@title ライブラリーのインポート\n",
        "import math\n",
        "import torch\n",
        "import torch.nn as nn\n",
        "import torch.optim as optim # 最適化モジュール\n",
        "from matplotlib import pyplot as plt # グラフの描画\n",
        "import MeCab # 形態素解析"
      ]
    },
    {
      "cell_type": "markdown",
      "metadata": {
        "id": "0ab_jf9Px0fl"
      },
      "source": [
        "GPUの使用を判定"
      ]
    },
    {
      "cell_type": "code",
      "execution_count": 80,
      "metadata": {
        "id": "m3Z9UDk1xztw",
        "colab": {
          "base_uri": "https://localhost:8080/",
          "height": 34
        },
        "outputId": "1bc53217-c163-43e6-c993-7f2ea59725e7"
      },
      "outputs": [
        {
          "output_type": "display_data",
          "data": {
            "text/plain": [
              "<IPython.core.display.HTML object>"
            ],
            "text/html": [
              "\n",
              "  <style>\n",
              "    pre {\n",
              "        white-space: pre-wrap;\n",
              "    }\n",
              "  </style>\n",
              "  "
            ]
          },
          "metadata": {}
        },
        {
          "output_type": "execute_result",
          "data": {
            "text/plain": [
              "device(type='cuda')"
            ]
          },
          "metadata": {},
          "execution_count": 80
        }
      ],
      "source": [
        "device = torch.device(\"cuda\" if torch.cuda.is_available() else \"cpu\")\n",
        "device"
      ]
    },
    {
      "cell_type": "code",
      "execution_count": 81,
      "metadata": {
        "id": "BFOhBiFJ1BUJ",
        "colab": {
          "base_uri": "https://localhost:8080/",
          "height": 17
        },
        "outputId": "3e4e6df4-5cc4-45fe-cfbb-c2763f73b78b"
      },
      "outputs": [
        {
          "output_type": "display_data",
          "data": {
            "text/plain": [
              "<IPython.core.display.HTML object>"
            ],
            "text/html": [
              "\n",
              "  <style>\n",
              "    pre {\n",
              "        white-space: pre-wrap;\n",
              "    }\n",
              "  </style>\n",
              "  "
            ]
          },
          "metadata": {}
        }
      ],
      "source": [
        "#@title MeCabの利用 (日本語を形態素解析するプログラム)\n",
        "tagger = MeCab.Tagger(\"-Owakati\")"
      ]
    },
    {
      "cell_type": "code",
      "source": [
        "#@title 青空文庫コーパスの利用\n",
        "from datasets import load_dataset\n",
        "ds = load_dataset('globis-university/aozorabunko-clean')\n",
        "ds = ds.filter(lambda row: row['meta']['文字遣い種別'] == '新字新仮名')  # 新字新仮名に限定"
      ],
      "metadata": {
        "id": "LwqEdd7H6Nwq",
        "colab": {
          "base_uri": "https://localhost:8080/",
          "height": 17
        },
        "outputId": "e1e54b88-8eef-42e9-9857-e37993c785e3"
      },
      "execution_count": 82,
      "outputs": [
        {
          "output_type": "display_data",
          "data": {
            "text/plain": [
              "<IPython.core.display.HTML object>"
            ],
            "text/html": [
              "\n",
              "  <style>\n",
              "    pre {\n",
              "        white-space: pre-wrap;\n",
              "    }\n",
              "  </style>\n",
              "  "
            ]
          },
          "metadata": {}
        }
      ]
    },
    {
      "cell_type": "code",
      "source": [
        "authors = ['夏目','江戸川']\n",
        "titles = ['こころ','魔術師']"
      ],
      "metadata": {
        "id": "uDus2PSM6fA-",
        "colab": {
          "base_uri": "https://localhost:8080/",
          "height": 17
        },
        "outputId": "add50073-1ff3-4094-a754-be31d725203b"
      },
      "execution_count": 83,
      "outputs": [
        {
          "output_type": "display_data",
          "data": {
            "text/plain": [
              "<IPython.core.display.HTML object>"
            ],
            "text/html": [
              "\n",
              "  <style>\n",
              "    pre {\n",
              "        white-space: pre-wrap;\n",
              "    }\n",
              "  </style>\n",
              "  "
            ]
          },
          "metadata": {}
        }
      ]
    },
    {
      "cell_type": "code",
      "source": [
        "#@title 青空文庫コーパスの読み込み\n",
        "aozora_corpus = ''\n",
        "for book in ds['train']:\n",
        "    title = book['meta']['作品名']\n",
        "    author = book['meta']['姓']\n",
        "    if author in authors and title in titles:\n",
        "        print(author, title)\n",
        "\n",
        "        text = book['text'] # 本文\n",
        "        text = ''.join(text.split()) # Clean up\n",
        "        text = tagger.parse(text) # 形態素解析\n",
        "        aozora_corpus += text"
      ],
      "metadata": {
        "id": "NAaqno4w6TFB",
        "colab": {
          "base_uri": "https://localhost:8080/",
          "height": 52
        },
        "outputId": "ce274434-d8b6-4e16-b5fd-b3e901dbb730"
      },
      "execution_count": 84,
      "outputs": [
        {
          "output_type": "display_data",
          "data": {
            "text/plain": [
              "<IPython.core.display.HTML object>"
            ],
            "text/html": [
              "\n",
              "  <style>\n",
              "    pre {\n",
              "        white-space: pre-wrap;\n",
              "    }\n",
              "  </style>\n",
              "  "
            ]
          },
          "metadata": {}
        },
        {
          "output_type": "stream",
          "name": "stdout",
          "text": [
            "江戸川 魔術師\n",
            "夏目 こころ\n"
          ]
        }
      ]
    },
    {
      "cell_type": "code",
      "source": [
        "aozora_corpus[:500]"
      ],
      "metadata": {
        "colab": {
          "base_uri": "https://localhost:8080/",
          "height": 87
        },
        "id": "KuC0vwWGFkT0",
        "outputId": "b3566611-2e86-4f6a-d520-84f31143ad29"
      },
      "execution_count": 85,
      "outputs": [
        {
          "output_type": "display_data",
          "data": {
            "text/plain": [
              "<IPython.core.display.HTML object>"
            ],
            "text/html": [
              "\n",
              "  <style>\n",
              "    pre {\n",
              "        white-space: pre-wrap;\n",
              "    }\n",
              "  </style>\n",
              "  "
            ]
          },
          "metadata": {}
        },
        {
          "output_type": "execute_result",
          "data": {
            "text/plain": [
              "'作者 の 言葉 わが 明智 小五郎 は 、 遂に 彼 の 生涯 で の 最大 強敵 に 相対 し た 。 ここ に 『 蜘蛛 男 』 の 理智 を 越え て 変幻 自在 なる 魔術 が ある 。 魔術 師 は 看客 の 目 の 前 で 生き た 女 を 胴切り に し たり 、 箱詰め の 小女 を 剣 の 芋刺し に し たり 、 彼女 を 殺害 し て 鮮血 したたる 生首 を 転がし て 見せ たり 、 或は 立 所 に 人 を 眠ら せ 、 自由 自在 の 暗示 を 与え 、 或は 他人 の 心中 持物 を 看破 する など 、 あらゆる 奇怪 事 を 行う こと が 出来る 。 兇賊 が これ ら の 怪 技 の 妙 奥 を 会得 し て い た 場合 を 想像 せよ 。 流石 の 名 探偵 明智 小五郎 も この 魔術 師 の 心理 的 或は 物理 的 欺瞞 に は 、 いたく 悩まさ れ ね ば なら なかっ た 。 魔術 兇賊 と は 何者 で ある か 。 それ が どんな に 意外 な 人物 で ある か 。 又 彼 は そもそも 如何なる 悪業 を 企ん だ の '"
            ],
            "application/vnd.google.colaboratory.intrinsic+json": {
              "type": "string"
            }
          },
          "metadata": {},
          "execution_count": 85
        }
      ]
    },
    {
      "cell_type": "markdown",
      "metadata": {
        "id": "Au-XXHhj3LN1"
      },
      "source": [
        "# Hyper parameter"
      ]
    },
    {
      "cell_type": "code",
      "execution_count": 86,
      "metadata": {
        "cellView": "form",
        "id": "kQujhsgfza5S",
        "colab": {
          "base_uri": "https://localhost:8080/",
          "height": 17
        },
        "outputId": "08bc0487-5b48-45ba-e9b0-40fb550df21c"
      },
      "outputs": [
        {
          "output_type": "display_data",
          "data": {
            "text/plain": [
              "<IPython.core.display.HTML object>"
            ],
            "text/html": [
              "\n",
              "  <style>\n",
              "    pre {\n",
              "        white-space: pre-wrap;\n",
              "    }\n",
              "  </style>\n",
              "  "
            ]
          },
          "metadata": {}
        }
      ],
      "source": [
        "# @markdown Pre-trained model parameters\n",
        "\n",
        "# 512 token GPT1\n",
        "# 10\n",
        "context_size = 15 # @param {type: \"integer\"}\n",
        "\n",
        "# 768 GPT1 (512+256)\n",
        "# 192\n",
        "d_model = 128 #@param {type: \"integer\"}\n",
        "\n",
        "# 12 GPT1\n",
        "# 3\n",
        "n_head = 2 #@param {type: \"integer\"}\n",
        "\n",
        "# 12 layer in  GPT1\n",
        "# 6\n",
        "n_block = 3 #@param {type: \"integer\"}\n",
        "\n",
        "# @markdown Train parameters\n",
        "# 64 GPT1\n",
        "# 64\n",
        "batch_size = 64  #@param {type: \"integer\"}\n",
        "\n",
        "# 2.5e-4\n",
        "# 0.00025\n",
        "learning_rate = 0.00025  #@param {type: \"number\"}\n",
        "\n",
        "# 100 GPT1\n",
        "num_epochs = 20 #@param {type: \"integer\"}\n",
        "\n",
        "# pre-trained.pkl\n",
        "pre_trained_model_path = '/content/drive/MyDrive/Study_GPT/models/pre-trained_item_review.pkl' #@param {type: \"string\"}\n",
        "vocab_path = '/content/drive/MyDrive/Study_GPT/models/vocab_item_review.pkl' #@param {type: \"string\"}"
      ]
    },
    {
      "cell_type": "code",
      "source": [
        "# ハイパーパラメータの検証\n",
        "if d_model % n_head != 0:\n",
        "    print(\"埋め込みベクトルの次元はヘッドの数で割り切れる必要があります\")\n",
        "    raise ValueError(\"d_model must be divisible by n_head\")"
      ],
      "metadata": {
        "id": "hXvc16yGCLWI",
        "colab": {
          "base_uri": "https://localhost:8080/",
          "height": 17
        },
        "outputId": "8dff7a32-6886-4908-9cf1-2c3e8fa3a569"
      },
      "execution_count": 87,
      "outputs": [
        {
          "output_type": "display_data",
          "data": {
            "text/plain": [
              "<IPython.core.display.HTML object>"
            ],
            "text/html": [
              "\n",
              "  <style>\n",
              "    pre {\n",
              "        white-space: pre-wrap;\n",
              "    }\n",
              "  </style>\n",
              "  "
            ]
          },
          "metadata": {}
        }
      ]
    },
    {
      "cell_type": "markdown",
      "source": [
        "# ファイルの読み込み"
      ],
      "metadata": {
        "id": "l45q0k3nsKAS"
      }
    },
    {
      "cell_type": "code",
      "source": [
        "# 基本文\n",
        "corpus1 = open(\"/content/whiteGPT/corpus/pre-train/jp/basic.txt\").read()\n",
        "corpus1 = tagger.parse(corpus1)\n",
        "corpus1[:100]"
      ],
      "metadata": {
        "id": "DU6EMl5YOB1n",
        "colab": {
          "base_uri": "https://localhost:8080/",
          "height": 35
        },
        "outputId": "865414fe-bdd5-4625-9393-8d5072022914"
      },
      "execution_count": 88,
      "outputs": [
        {
          "output_type": "display_data",
          "data": {
            "text/plain": [
              "<IPython.core.display.HTML object>"
            ],
            "text/html": [
              "\n",
              "  <style>\n",
              "    pre {\n",
              "        white-space: pre-wrap;\n",
              "    }\n",
              "  </style>\n",
              "  "
            ]
          },
          "metadata": {}
        },
        {
          "output_type": "execute_result",
          "data": {
            "text/plain": [
              "'これ は 、 自作 の \" GPT \" モデル の 事前 学習 用 に \" Udemy \" の 教材 と し て 用意 し まし た 。 ミカン と は 何 です か \\u3000 ミカン は 、 果物 です '"
            ],
            "application/vnd.google.colaboratory.intrinsic+json": {
              "type": "string"
            }
          },
          "metadata": {},
          "execution_count": 88
        }
      ]
    },
    {
      "cell_type": "code",
      "source": [
        "# 商品レビュー\n",
        "corpus2 = open(\"/content/whiteGPT/corpus/pre-train/jp/item_review.txt\").read()\n",
        "corpus2 = tagger.parse(corpus2)\n",
        "corpus2[:100]"
      ],
      "metadata": {
        "id": "2eFUaXywN7kH",
        "colab": {
          "base_uri": "https://localhost:8080/",
          "height": 35
        },
        "outputId": "46d6d5eb-ef47-4ec9-c12a-29275f0c9007"
      },
      "execution_count": 89,
      "outputs": [
        {
          "output_type": "display_data",
          "data": {
            "text/plain": [
              "<IPython.core.display.HTML object>"
            ],
            "text/html": [
              "\n",
              "  <style>\n",
              "    pre {\n",
              "        white-space: pre-wrap;\n",
              "    }\n",
              "  </style>\n",
              "  "
            ]
          },
          "metadata": {}
        },
        {
          "output_type": "execute_result",
          "data": {
            "text/plain": [
              "'化粧 品 の 購入 後 、 肌 が 明るく なり 、 自信 が 持てる よう に なり まし た 。 この テレビ は 不 具合 が 頻発 し 、 修理 に 出す こと が 多い 。 最新 の 冷蔵 '"
            ],
            "application/vnd.google.colaboratory.intrinsic+json": {
              "type": "string"
            }
          },
          "metadata": {},
          "execution_count": 89
        }
      ]
    },
    {
      "cell_type": "code",
      "source": [
        "# 基本文　＋　商品レビュー　＋　青空文庫\n",
        "pre_train_corpus = corpus1 + corpus2 + aozora_corpus\n",
        "pre_train_corpus[:100]"
      ],
      "metadata": {
        "id": "6xipEnZLONlW",
        "colab": {
          "base_uri": "https://localhost:8080/",
          "height": 35
        },
        "outputId": "aa7cfa88-fc91-4e08-bce9-2b1af08a950f"
      },
      "execution_count": 90,
      "outputs": [
        {
          "output_type": "display_data",
          "data": {
            "text/plain": [
              "<IPython.core.display.HTML object>"
            ],
            "text/html": [
              "\n",
              "  <style>\n",
              "    pre {\n",
              "        white-space: pre-wrap;\n",
              "    }\n",
              "  </style>\n",
              "  "
            ]
          },
          "metadata": {}
        },
        {
          "output_type": "execute_result",
          "data": {
            "text/plain": [
              "'これ は 、 自作 の \" GPT \" モデル の 事前 学習 用 に \" Udemy \" の 教材 と し て 用意 し まし た 。 ミカン と は 何 です か \\u3000 ミカン は 、 果物 です '"
            ],
            "application/vnd.google.colaboratory.intrinsic+json": {
              "type": "string"
            }
          },
          "metadata": {},
          "execution_count": 90
        }
      ]
    },
    {
      "cell_type": "code",
      "source": [
        "# ファインチューニングで使うコーパス　（※学習には使わない）\n",
        "fine_tuning_corpus = open(\"/content/whiteGPT/corpus/fine-tuning/text_classification.txt\").read()\n",
        "fine_tuning_corpus = tagger.parse(fine_tuning_corpus)\n",
        "fine_tuning_corpus[:100]"
      ],
      "metadata": {
        "id": "PYjLHQQgQe-M",
        "colab": {
          "base_uri": "https://localhost:8080/",
          "height": 35
        },
        "outputId": "1268f0fb-ea83-4e66-8daf-352345db497e"
      },
      "execution_count": 91,
      "outputs": [
        {
          "output_type": "display_data",
          "data": {
            "text/plain": [
              "<IPython.core.display.HTML object>"
            ],
            "text/html": [
              "\n",
              "  <style>\n",
              "    pre {\n",
              "        white-space: pre-wrap;\n",
              "    }\n",
              "  </style>\n",
              "  "
            ]
          },
          "metadata": {}
        },
        {
          "output_type": "execute_result",
          "data": {
            "text/plain": [
              "'この コーヒー メーカー は コーヒー の 味 が 本格 的 で 、 毎朝 の 楽しみ です 。 大 満足 です 。 : 肯定 新しい 目覚まし 時計 を 買い まし た 。 この 製品 は 、 あま'"
            ],
            "application/vnd.google.colaboratory.intrinsic+json": {
              "type": "string"
            }
          },
          "metadata": {},
          "execution_count": 91
        }
      ]
    },
    {
      "cell_type": "markdown",
      "metadata": {
        "id": "LnpvcofWzRqR"
      },
      "source": [
        "# インスタンス化"
      ]
    },
    {
      "cell_type": "code",
      "execution_count": 92,
      "metadata": {
        "id": "Fenjl9hfZg3n",
        "colab": {
          "base_uri": "https://localhost:8080/",
          "height": 17
        },
        "outputId": "6363159e-e85f-449c-b5a1-9ca005f16caf"
      },
      "outputs": [
        {
          "output_type": "display_data",
          "data": {
            "text/plain": [
              "<IPython.core.display.HTML object>"
            ],
            "text/html": [
              "\n",
              "  <style>\n",
              "    pre {\n",
              "        white-space: pre-wrap;\n",
              "    }\n",
              "  </style>\n",
              "  "
            ]
          },
          "metadata": {}
        }
      ],
      "source": [
        "from whiteGPT import GPT, GPT2, create_attention_mask # 完成コードの利用\n",
        "from whiteGPT import Evaluate, Vocab\n",
        "from whiteGPT import DataLoader, TextDataset as Dataset"
      ]
    },
    {
      "cell_type": "code",
      "source": [
        "# 単語辞書\n",
        "vocab = Vocab(pre_train_corpus + fine_tuning_corpus)\n",
        "vocab.index2word"
      ],
      "metadata": {
        "colab": {
          "base_uri": "https://localhost:8080/",
          "height": 1000
        },
        "id": "Iwe6CWDNjK5Y",
        "outputId": "ed6ea776-48ac-4065-c1eb-b92f85276215",
        "collapsed": true
      },
      "execution_count": 93,
      "outputs": [
        {
          "output_type": "display_data",
          "data": {
            "text/plain": [
              "<IPython.core.display.HTML object>"
            ],
            "text/html": [
              "\n",
              "  <style>\n",
              "    pre {\n",
              "        white-space: pre-wrap;\n",
              "    }\n",
              "  </style>\n",
              "  "
            ]
          },
          "metadata": {}
        },
        {
          "output_type": "execute_result",
          "data": {
            "text/plain": [
              "{0: '<PAD>',\n",
              " 1: '<BOS>',\n",
              " 2: '<EOS>',\n",
              " 3: '<UNK>',\n",
              " 4: '<EXT1>',\n",
              " 5: '<EXT2>',\n",
              " 6: '!',\n",
              " 7: '\"',\n",
              " 8: '#',\n",
              " 9: '(',\n",
              " 10: ')',\n",
              " 11: '*',\n",
              " 12: '+',\n",
              " 13: ',',\n",
              " 14: '-',\n",
              " 15: '--',\n",
              " 16: '.',\n",
              " 17: '/',\n",
              " 18: '0',\n",
              " 19: '1',\n",
              " 20: '10',\n",
              " 21: '1000',\n",
              " 22: '12',\n",
              " 23: '120',\n",
              " 24: '13',\n",
              " 25: '134',\n",
              " 26: '15',\n",
              " 27: '170',\n",
              " 28: '1774',\n",
              " 29: '18',\n",
              " 30: '1808',\n",
              " 31: '1832',\n",
              " 32: '19',\n",
              " 33: '1900',\n",
              " 34: '1950',\n",
              " 35: '1960',\n",
              " 36: '1972',\n",
              " 37: '1980',\n",
              " 38: '1990',\n",
              " 39: '1996',\n",
              " 40: '2',\n",
              " 41: '20',\n",
              " 42: '200',\n",
              " 43: '2000',\n",
              " 44: '2007',\n",
              " 45: '2024',\n",
              " 46: '21',\n",
              " 47: '25',\n",
              " 48: '280',\n",
              " 49: '3',\n",
              " 50: '30',\n",
              " 51: '360',\n",
              " 52: '3776',\n",
              " 53: '4',\n",
              " 54: '40',\n",
              " 55: '400',\n",
              " 56: '480',\n",
              " 57: '5',\n",
              " 58: '50',\n",
              " 59: '575',\n",
              " 60: '6',\n",
              " 61: '600',\n",
              " 62: '64',\n",
              " 63: '65',\n",
              " 64: '7',\n",
              " 65: '8',\n",
              " 66: '9',\n",
              " 67: ':',\n",
              " 68: '?',\n",
              " 69: 'A',\n",
              " 70: 'AI',\n",
              " 71: 'AR',\n",
              " 72: 'ARPANET',\n",
              " 73: 'Amazon',\n",
              " 74: 'Android',\n",
              " 75: 'Apple',\n",
              " 76: 'Assistant',\n",
              " 77: 'B',\n",
              " 78: 'Bluetooth',\n",
              " 79: 'Bus',\n",
              " 80: 'C',\n",
              " 81: 'CFC',\n",
              " 82: 'CO',\n",
              " 83: 'CPU',\n",
              " 84: 'ChatGPT',\n",
              " 85: 'Control',\n",
              " 86: 'D',\n",
              " 87: 'DHA',\n",
              " 88: 'DNS',\n",
              " 89: 'Delivery',\n",
              " 90: 'Digital',\n",
              " 91: 'Doc',\n",
              " 92: 'EC',\n",
              " 93: 'EL',\n",
              " 94: 'EPA',\n",
              " 95: 'EverFresh',\n",
              " 96: 'Fi',\n",
              " 97: 'G',\n",
              " 98: 'GIGA',\n",
              " 99: 'GPS',\n",
              " 100: 'GPT',\n",
              " 101: 'Gbps',\n",
              " 102: 'Google',\n",
              " 103: 'HCFC',\n",
              " 104: 'HD',\n",
              " 105: 'HDMI',\n",
              " 106: 'HDR',\n",
              " 107: 'HID',\n",
              " 108: 'IBM',\n",
              " 109: 'IH',\n",
              " 110: 'IP',\n",
              " 111: 'IT',\n",
              " 112: 'Intel',\n",
              " 113: 'Internet',\n",
              " 114: 'IoT',\n",
              " 115: 'K',\n",
              " 116: 'L',\n",
              " 117: 'LLM',\n",
              " 118: 'Marty',\n",
              " 119: 'Mbps',\n",
              " 120: 'Microsoft',\n",
              " 121: 'NEC',\n",
              " 122: 'OK',\n",
              " 123: 'PA',\n",
              " 124: 'PD',\n",
              " 125: 'PDA',\n",
              " 126: 'Personal',\n",
              " 127: 'Power',\n",
              " 128: 'Protocol',\n",
              " 129: 'R',\n",
              " 130: 'SNS',\n",
              " 131: 'SPF',\n",
              " 132: 'SSD',\n",
              " 133: 'STEM',\n",
              " 134: 'Serial',\n",
              " 135: 'Siri',\n",
              " 136: 'T',\n",
              " 137: 'TCP',\n",
              " 138: 'Things',\n",
              " 139: 'Transmission',\n",
              " 140: 'URL',\n",
              " 141: 'USB',\n",
              " 142: 'Udemy',\n",
              " 143: 'Universal',\n",
              " 144: 'VR',\n",
              " 145: 'Wi',\n",
              " 146: 'Yeah',\n",
              " 147: 'YouTube',\n",
              " 148: '[',\n",
              " 149: ']',\n",
              " 150: ']。',\n",
              " 151: ']）。',\n",
              " 152: ']：',\n",
              " 153: 'a',\n",
              " 154: 'b',\n",
              " 155: 'c',\n",
              " 156: 'ch',\n",
              " 157: 'd',\n",
              " 158: 'iOS',\n",
              " 159: 'iPhone',\n",
              " 160: 'it',\n",
              " 161: 'kWh',\n",
              " 162: 'made',\n",
              " 163: 'of',\n",
              " 164: 'or',\n",
              " 165: 'sleep',\n",
              " 166: 'stereos',\n",
              " 167: 'vs',\n",
              " 168: 'you',\n",
              " 169: '×',\n",
              " 170: 'православ',\n",
              " 171: '―',\n",
              " 172: '…',\n",
              " 173: '□',\n",
              " 174: '▲',\n",
              " 175: '△',\n",
              " 176: '○',\n",
              " 177: '○○',\n",
              " 178: '⽤',\n",
              " 179: '、',\n",
              " 180: '。',\n",
              " 181: '々',\n",
              " 182: '〆',\n",
              " 183: '〇',\n",
              " 184: '「',\n",
              " 185: '」',\n",
              " 186: '『',\n",
              " 187: '』',\n",
              " 188: 'あ',\n",
              " 189: 'ああ',\n",
              " 190: 'あい',\n",
              " 191: 'あいつ',\n",
              " 192: 'あえぎ',\n",
              " 193: 'あえぎあえぎ',\n",
              " 194: 'あえて',\n",
              " 195: 'あおり',\n",
              " 196: 'あか',\n",
              " 197: 'あかし',\n",
              " 198: 'あからさま',\n",
              " 199: 'あがり',\n",
              " 200: 'あがる',\n",
              " 201: 'あきたら',\n",
              " 202: 'あきらめ',\n",
              " 203: 'あきらめる',\n",
              " 204: 'あきれ',\n",
              " 205: 'あく',\n",
              " 206: 'あくど',\n",
              " 207: 'あくび',\n",
              " 208: 'あくまで',\n",
              " 209: 'あくる日',\n",
              " 210: 'あぐん',\n",
              " 211: 'あけ',\n",
              " 212: 'あげ',\n",
              " 213: 'あさっ',\n",
              " 214: 'あざやか',\n",
              " 215: 'あす',\n",
              " 216: 'あすこ',\n",
              " 217: 'あせっ',\n",
              " 218: 'あせり',\n",
              " 219: 'あせる',\n",
              " 220: 'あせれ',\n",
              " 221: 'あそこ',\n",
              " 222: 'あたかも',\n",
              " 223: 'あたし',\n",
              " 224: 'あたしゃ',\n",
              " 225: 'あたじけなく',\n",
              " 226: 'あたたかい',\n",
              " 227: 'あたっ',\n",
              " 228: 'あたり',\n",
              " 229: 'あたり前',\n",
              " 230: 'あたる',\n",
              " 231: 'あちこち',\n",
              " 232: 'あちら',\n",
              " 233: 'あちらこちら',\n",
              " 234: 'あっ',\n",
              " 235: 'あっけ',\n",
              " 236: 'あっけなく',\n",
              " 237: 'あっさり',\n",
              " 238: 'あっし',\n",
              " 239: 'あっち',\n",
              " 240: 'あつめ',\n",
              " 241: 'あて',\n",
              " 242: 'あでやか',\n",
              " 243: 'あと',\n",
              " 244: 'あとじさり',\n",
              " 245: 'あと戻り',\n",
              " 246: 'あな',\n",
              " 247: 'あなた',\n",
              " 248: 'あの',\n",
              " 249: 'あの世',\n",
              " 250: 'あばい',\n",
              " 251: 'あばずれ',\n",
              " 252: 'あばれよう',\n",
              " 253: 'あび',\n",
              " 254: 'あびせ',\n",
              " 255: 'あふれ',\n",
              " 256: 'あふれる',\n",
              " 257: 'あぶない',\n",
              " 258: 'あぶら汗',\n",
              " 259: 'あまつさえ',\n",
              " 260: 'あまり',\n",
              " 261: 'あやつら',\n",
              " 262: 'あやめ',\n",
              " 263: 'あら',\n",
              " 264: 'あらかじめ',\n",
              " 265: 'あらすじ',\n",
              " 266: 'あらゆる',\n",
              " 267: 'あらわ',\n",
              " 268: 'あり',\n",
              " 269: 'ありあり',\n",
              " 270: 'ありがたい',\n",
              " 271: 'ありがたかっ',\n",
              " 272: 'ありがとう',\n",
              " 273: 'ありつき',\n",
              " 274: 'ありのまま',\n",
              " 275: 'ありふれ',\n",
              " 276: 'ありゃ',\n",
              " 277: 'ありよう',\n",
              " 278: 'あり合わせ',\n",
              " 279: 'ある',\n",
              " 280: 'あるいは',\n",
              " 281: 'あるき',\n",
              " 282: 'あれ',\n",
              " 283: 'あれこれ',\n",
              " 284: 'あろう',\n",
              " 285: 'あわただしい',\n",
              " 286: 'あわや',\n",
              " 287: 'あわよくば',\n",
              " 288: 'あんな',\n",
              " 289: 'あんまり',\n",
              " 290: 'い',\n",
              " 291: 'いい',\n",
              " 292: 'いいえ',\n",
              " 293: 'いい切ら',\n",
              " 294: 'いい切り',\n",
              " 295: 'いい放ち',\n",
              " 296: 'いい残し',\n",
              " 297: 'いう',\n",
              " 298: 'いえ',\n",
              " 299: 'いえる',\n",
              " 300: 'いおう',\n",
              " 301: 'いか',\n",
              " 302: 'いかが',\n",
              " 303: 'いかな',\n",
              " 304: 'いかに',\n",
              " 305: 'いからし',\n",
              " 306: 'いき',\n",
              " 307: 'いきおい',\n",
              " 308: 'いきさつ',\n",
              " 309: 'いきなり',\n",
              " 310: 'いきれ',\n",
              " 311: 'いく',\n",
              " 312: 'いくら',\n",
              " 313: 'いけ',\n",
              " 314: 'いこう',\n",
              " 315: 'いさぎよく',\n",
              " 316: 'いざ',\n",
              " 317: 'いずれ',\n",
              " 318: 'いそがしい',\n",
              " 319: 'いたいけ',\n",
              " 320: 'いたく',\n",
              " 321: 'いたし',\n",
              " 322: 'いたずら',\n",
              " 323: 'いたずら書き',\n",
              " 324: 'いただい',\n",
              " 325: 'いただき',\n",
              " 326: 'いただけ',\n",
              " 327: 'いただける',\n",
              " 328: 'いただけれ',\n",
              " 329: 'いたましく',\n",
              " 330: 'いたわっ',\n",
              " 331: 'いち',\n",
              " 332: 'いっ',\n",
              " 333: 'いっしょ',\n",
              " 334: 'いっそ',\n",
              " 335: 'いっそう',\n",
              " 336: 'いっぱい',\n",
              " 337: 'いつ',\n",
              " 338: 'いつくしみ育て',\n",
              " 339: 'いつくしん',\n",
              " 340: 'いつ頃',\n",
              " 341: 'いで',\n",
              " 342: 'いとぐち',\n",
              " 343: 'いとしい',\n",
              " 344: 'いとしく',\n",
              " 345: 'いな',\n",
              " 346: 'いびつ',\n",
              " 347: 'いぶか',\n",
              " 348: 'いぶかしく',\n",
              " 349: 'いぶかる',\n",
              " 350: 'いま',\n",
              " 351: 'いまだ',\n",
              " 352: 'いまわ',\n",
              " 353: 'いまわしい',\n",
              " 354: 'いも',\n",
              " 355: 'いや',\n",
              " 356: 'いやいや',\n",
              " 357: 'いやー',\n",
              " 358: 'いよいよ',\n",
              " 359: 'いよう',\n",
              " 360: 'いら',\n",
              " 361: 'いらいら',\n",
              " 362: 'いらし',\n",
              " 363: 'いらだたし',\n",
              " 364: 'いらだたしい',\n",
              " 365: 'いらっしゃい',\n",
              " 366: 'いらっしゃっ',\n",
              " 367: 'いらっしゃら',\n",
              " 368: 'いらっしゃる',\n",
              " 369: 'いる',\n",
              " 370: 'いれ',\n",
              " 371: 'いろ',\n",
              " 372: 'いろいろ',\n",
              " 373: 'いろんな',\n",
              " 374: 'いわ',\n",
              " 375: 'いわゆる',\n",
              " 376: 'う',\n",
              " 377: 'うしろ',\n",
              " 378: 'うしろ姿',\n",
              " 379: 'うすもの',\n",
              " 380: 'うすれ',\n",
              " 381: 'うずくまっ',\n",
              " 382: 'うた',\n",
              " 383: 'うたたね',\n",
              " 384: 'うち',\n",
              " 385: 'うっ',\n",
              " 386: 'うっかり',\n",
              " 387: 'うっすり',\n",
              " 388: 'うっちゃっ',\n",
              " 389: 'うつ',\n",
              " 390: 'うつつ',\n",
              " 391: 'うとい',\n",
              " 392: 'うなだれ',\n",
              " 393: 'うなり声',\n",
              " 394: 'うぬ',\n",
              " 395: 'うねうね',\n",
              " 396: 'うねり',\n",
              " 397: 'うねる',\n",
              " 398: 'うま',\n",
              " 399: 'うまい',\n",
              " 400: 'うまうま',\n",
              " 401: 'うまく',\n",
              " 402: 'うめい',\n",
              " 403: 'うめき声',\n",
              " 404: 'うめく',\n",
              " 405: 'うやうやしく',\n",
              " 406: 'うやむや',\n",
              " 407: 'うらめしかっ',\n",
              " 408: 'うら若い',\n",
              " 409: 'うる',\n",
              " 410: 'うるおい',\n",
              " 411: 'うるさい',\n",
              " 412: 'うるわしい',\n",
              " 413: 'うれしい',\n",
              " 414: 'うれしかっ',\n",
              " 415: 'うろたえ',\n",
              " 416: 'うろつい',\n",
              " 417: 'うろつき',\n",
              " 418: 'うわて',\n",
              " 419: 'うん',\n",
              " 420: 'うーん',\n",
              " 421: 'え',\n",
              " 422: 'ええ',\n",
              " 423: 'えたい',\n",
              " 424: 'えらく',\n",
              " 425: 'える',\n",
              " 426: 'えー',\n",
              " 427: 'お',\n",
              " 428: 'おい',\n",
              " 429: 'おいし',\n",
              " 430: 'おいしい',\n",
              " 431: 'おいしかっ',\n",
              " 432: 'おいしく',\n",
              " 433: 'おいそれと',\n",
              " 434: 'おお',\n",
              " 435: 'おおせ',\n",
              " 436: 'おか',\n",
              " 437: 'おかげ',\n",
              " 438: 'おかし',\n",
              " 439: 'おかしい',\n",
              " 440: 'おかしく',\n",
              " 441: 'おかず',\n",
              " 442: 'おき',\n",
              " 443: 'おく',\n",
              " 444: 'おくれ',\n",
              " 445: 'おけ',\n",
              " 446: 'おこう',\n",
              " 447: 'おさまっ',\n",
              " 448: 'おし',\n",
              " 449: 'おしい',\n",
              " 450: 'おしげ',\n",
              " 451: 'おしゃれ',\n",
              " 452: 'おじ恐れ',\n",
              " 453: 'おそかっ',\n",
              " 454: 'おそかり',\n",
              " 455: 'おそく',\n",
              " 456: 'おそまき',\n",
              " 457: 'おそらく',\n",
              " 458: 'おだやか',\n",
              " 459: 'おっ',\n",
              " 460: 'おっしゃい',\n",
              " 461: 'おっしゃっ',\n",
              " 462: 'おっしゃる',\n",
              " 463: 'おっしゃれ',\n",
              " 464: 'おっしやっ',\n",
              " 465: 'おとす',\n",
              " 466: 'おとなしい',\n",
              " 467: 'おとなしかっ',\n",
              " 468: 'おとなしく',\n",
              " 469: 'おどかさ',\n",
              " 470: 'おどかし',\n",
              " 471: 'おどかす',\n",
              " 472: 'おのれ',\n",
              " 473: 'おびえ',\n",
              " 474: 'おびき寄せる',\n",
              " 475: 'おびやかさ',\n",
              " 476: 'おびやかす',\n",
              " 477: 'おぼれ',\n",
              " 478: 'おぼろ',\n",
              " 479: 'おまけ',\n",
              " 480: 'おもしろい',\n",
              " 481: 'おもしろく',\n",
              " 482: 'おもちゃ',\n",
              " 483: 'おもな',\n",
              " 484: 'おもに',\n",
              " 485: 'おもむろに',\n",
              " 486: 'おや',\n",
              " 487: 'おやつ',\n",
              " 488: 'および',\n",
              " 489: 'おら',\n",
              " 490: 'おり',\n",
              " 491: 'おる',\n",
              " 492: 'おれ',\n",
              " 493: 'おろし',\n",
              " 494: 'お上',\n",
              " 495: 'お前',\n",
              " 496: 'お祭騒ぎ',\n",
              " 497: 'お腹',\n",
              " 498: 'お茶の水',\n",
              " 499: 'お蔭',\n",
              " 500: 'お陀仏',\n",
              " 501: 'か',\n",
              " 502: 'かい',\n",
              " 503: 'かいつまん',\n",
              " 504: 'かえ',\n",
              " 505: 'かえっ',\n",
              " 506: 'かえって',\n",
              " 507: 'かかあ',\n",
              " 508: 'かかっ',\n",
              " 509: 'かかと',\n",
              " 510: 'かから',\n",
              " 511: 'かかり',\n",
              " 512: 'かかる',\n",
              " 513: 'かかれ',\n",
              " 514: 'かかわら',\n",
              " 515: 'かかわる',\n",
              " 516: 'かがみ込み',\n",
              " 517: 'かがめ',\n",
              " 518: 'かがん',\n",
              " 519: 'かき',\n",
              " 520: 'かきむしっ',\n",
              " 521: 'かきむしる',\n",
              " 522: 'かき分け',\n",
              " 523: 'かき口説く',\n",
              " 524: 'かき集め',\n",
              " 525: 'かき餅',\n",
              " 526: 'かぎ',\n",
              " 527: 'かぎり',\n",
              " 528: 'かく',\n",
              " 529: 'かくまわ',\n",
              " 530: 'かくれ',\n",
              " 531: 'かけ',\n",
              " 532: 'かけがえ',\n",
              " 533: 'かけつけ',\n",
              " 534: 'かける',\n",
              " 535: 'かけ声',\n",
              " 536: 'かけ寄っ',\n",
              " 537: 'かけ込ん',\n",
              " 538: 'かさみ',\n",
              " 539: 'かさむ',\n",
              " 540: 'かさん',\n",
              " 541: 'かざし',\n",
              " 542: 'かざす',\n",
              " 543: 'かし',\n",
              " 544: 'かしげ',\n",
              " 545: 'かしこ',\n",
              " 546: 'かしこまり',\n",
              " 547: 'かしら',\n",
              " 548: 'かす',\n",
              " 549: 'かすむ',\n",
              " 550: 'かすめ',\n",
              " 551: 'かた',\n",
              " 552: 'かたがた',\n",
              " 553: 'かたまっ',\n",
              " 554: 'かたまり',\n",
              " 555: 'かっきり',\n",
              " 556: 'かっこ',\n",
              " 557: 'かつ',\n",
              " 558: 'かつい',\n",
              " 559: 'かつて',\n",
              " 560: 'かな',\n",
              " 561: 'かなぐり捨て',\n",
              " 562: 'かなめ',\n",
              " 563: 'かなり',\n",
              " 564: 'かね',\n",
              " 565: 'かねて',\n",
              " 566: 'かの',\n",
              " 567: 'かばい立て',\n",
              " 568: 'かばん',\n",
              " 569: 'かぶり',\n",
              " 570: 'かぶれ',\n",
              " 571: 'かゆみ',\n",
              " 572: 'から',\n",
              " 573: 'からかい顔',\n",
              " 574: 'からかわ',\n",
              " 575: 'からげ',\n",
              " 576: 'からだ',\n",
              " 577: 'からま',\n",
              " 578: 'からん',\n",
              " 579: 'かりそめ',\n",
              " 580: 'かれこれ',\n",
              " 581: 'かわいい',\n",
              " 582: 'かわいく',\n",
              " 583: 'かわいらしい',\n",
              " 584: 'かわいらしかっ',\n",
              " 585: 'かわいらしく',\n",
              " 586: 'かわし',\n",
              " 587: 'かわす',\n",
              " 588: 'かわり',\n",
              " 589: 'か所',\n",
              " 590: 'か月',\n",
              " 591: 'が',\n",
              " 592: 'がかっ',\n",
              " 593: 'がかり',\n",
              " 594: 'がけ',\n",
              " 595: 'がさがさ',\n",
              " 596: 'がた',\n",
              " 597: 'がたい',\n",
              " 598: 'がたがた',\n",
              " 599: 'がたぴし',\n",
              " 600: 'がち',\n",
              " 601: 'がっ',\n",
              " 602: 'がっかり',\n",
              " 603: 'がてら',\n",
              " 604: 'がましい',\n",
              " 605: 'がましく',\n",
              " 606: 'がら',\n",
              " 607: 'がらがら',\n",
              " 608: 'がらり',\n",
              " 609: 'がらん',\n",
              " 610: 'がらんどう',\n",
              " 611: 'がり',\n",
              " 612: 'がる',\n",
              " 613: 'がん',\n",
              " 614: 'がんばっ',\n",
              " 615: 'がんばり',\n",
              " 616: 'き',\n",
              " 617: 'ききつけ',\n",
              " 618: 'きしり',\n",
              " 619: 'きずい',\n",
              " 620: 'きずな',\n",
              " 621: 'きたす',\n",
              " 622: 'きたなく',\n",
              " 623: 'きちんと',\n",
              " 624: 'きっ',\n",
              " 625: 'きっかけ',\n",
              " 626: 'きっと',\n",
              " 627: 'きつく',\n",
              " 628: 'きまり',\n",
              " 629: 'きょときょと',\n",
              " 630: 'きょろ',\n",
              " 631: 'きら',\n",
              " 632: 'きらびやか',\n",
              " 633: 'きれ',\n",
              " 634: 'きれい',\n",
              " 635: 'きわどい',\n",
              " 636: 'ぎ',\n",
              " 637: 'ぎゅっ',\n",
              " 638: 'ぎょっと',\n",
              " 639: 'ぎらぎら',\n",
              " 640: 'ぎり',\n",
              " 641: 'く',\n",
              " 642: 'くぐっ',\n",
              " 643: 'くさい',\n",
              " 644: 'くすみ',\n",
              " 645: 'くずおれ',\n",
              " 646: 'くずし',\n",
              " 647: 'くずれ',\n",
              " 648: 'くずれる',\n",
              " 649: 'くせ',\n",
              " 650: 'くだい',\n",
              " 651: 'ください',\n",
              " 652: 'くだもの',\n",
              " 653: 'くっきり',\n",
              " 654: 'くっつい',\n",
              " 655: 'くつろい',\n",
              " 656: 'くつろぎ',\n",
              " 657: 'くつろげる',\n",
              " 658: 'くどい',\n",
              " 659: 'くねら',\n",
              " 660: 'くやし',\n",
              " 661: 'くら',\n",
              " 662: 'くらい',\n",
              " 663: 'くらまし',\n",
              " 664: 'くらみ',\n",
              " 665: 'くらん',\n",
              " 666: 'くり抜き',\n",
              " 667: 'くり返さ',\n",
              " 668: 'くる',\n",
              " 669: 'くるまっ',\n",
              " 670: 'くるめ',\n",
              " 671: 'くれ',\n",
              " 672: 'くれる',\n",
              " 673: 'くれれ',\n",
              " 674: 'くれろ',\n",
              " 675: 'くん',\n",
              " 676: 'ぐい',\n",
              " 677: 'ぐしょぐしょ',\n",
              " 678: 'ぐずぐず',\n",
              " 679: 'ぐたぐた',\n",
              " 680: 'ぐっ',\n",
              " 681: 'ぐっすり',\n",
              " 682: 'ぐらい',\n",
              " 683: 'ぐらぐら',\n",
              " 684: 'ぐるぐる',\n",
              " 685: 'ぐるみ',\n",
              " 686: 'ぐるり',\n",
              " 687: 'け',\n",
              " 688: 'けげん',\n",
              " 689: 'けど',\n",
              " 690: 'けなげ',\n",
              " 691: 'けなし',\n",
              " 692: 'けら',\n",
              " 693: 'けれど',\n",
              " 694: 'けんか',\n",
              " 695: 'げ',\n",
              " 696: 'こ',\n",
              " 697: 'こい',\n",
              " 698: 'こいつ',\n",
              " 699: 'こう',\n",
              " 700: 'こき使わ',\n",
              " 701: 'こくり',\n",
              " 702: 'ここ',\n",
              " 703: 'こごん',\n",
              " 704: 'こじる',\n",
              " 705: 'こすり',\n",
              " 706: 'こせこせ',\n",
              " 707: 'こせつき',\n",
              " 708: 'こそ',\n",
              " 709: 'こそこそ',\n",
              " 710: 'こぞっ',\n",
              " 711: 'こたえる',\n",
              " 712: 'こだま',\n",
              " 713: 'こだわり',\n",
              " 714: 'こちら',\n",
              " 715: 'こちら側',\n",
              " 716: 'こっそり',\n",
              " 717: 'こっち',\n",
              " 718: 'こと',\n",
              " 719: 'ことに',\n",
              " 720: 'ことり',\n",
              " 721: 'こないだ',\n",
              " 722: 'こなごな',\n",
              " 723: 'こなし',\n",
              " 724: 'こなす',\n",
              " 725: 'こなせ',\n",
              " 726: 'この',\n",
              " 727: 'この世',\n",
              " 728: 'この頃',\n",
              " 729: 'こびりつい',\n",
              " 730: 'こびり付い',\n",
              " 731: 'こびり着い',\n",
              " 732: 'こぼし',\n",
              " 733: 'こまごま',\n",
              " 734: 'こまめ',\n",
              " 735: 'こみ上げ',\n",
              " 736: 'こめ',\n",
              " 737: 'こめる',\n",
              " 738: 'こもる',\n",
              " 739: 'こらえ',\n",
              " 740: 'こらしめ',\n",
              " 741: 'こりゃ',\n",
              " 742: 'これ',\n",
              " 743: 'これしき',\n",
              " 744: 'ころがっ',\n",
              " 745: 'ころり',\n",
              " 746: 'こん',\n",
              " 747: 'こんど',\n",
              " 748: 'こんな',\n",
              " 749: 'こんにちは',\n",
              " 750: 'こんもり',\n",
              " 751: 'ご',\n",
              " 752: 'ごうごう',\n",
              " 753: 'ごく',\n",
              " 754: 'ござい',\n",
              " 755: 'ござり',\n",
              " 756: 'ござん',\n",
              " 757: 'ごちゃごちゃ',\n",
              " 758: 'ごと',\n",
              " 759: 'ごとき',\n",
              " 760: 'ごとく',\n",
              " 761: 'ごはん',\n",
              " 762: 'ごまかし',\n",
              " 763: 'ごみ',\n",
              " 764: 'ごらん',\n",
              " 765: 'ごろ',\n",
              " 766: 'ごろごろ',\n",
              " 767: 'ご覧',\n",
              " 768: 'ご飯',\n",
              " 769: 'さ',\n",
              " 770: 'さぁ',\n",
              " 771: 'さあ',\n",
              " 772: 'さい',\n",
              " 773: 'さいなま',\n",
              " 774: 'さえ',\n",
              " 775: 'さえずり',\n",
              " 776: 'さがっ',\n",
              " 777: 'さき',\n",
              " 778: 'さきほど',\n",
              " 779: 'さくら',\n",
              " 780: 'さけ',\n",
              " 781: 'ささ',\n",
              " 782: 'ささげ',\n",
              " 783: 'ささやか',\n",
              " 784: 'さし',\n",
              " 785: 'さしかかっ',\n",
              " 786: 'さしずめ',\n",
              " 787: 'さしたる',\n",
              " 788: 'さして',\n",
              " 789: 'さし入れ',\n",
              " 790: 'さし出し',\n",
              " 791: 'さし向ける',\n",
              " 792: 'さすが',\n",
              " 793: 'させ',\n",
              " 794: 'させよう',\n",
              " 795: 'させる',\n",
              " 796: 'さぞ',\n",
              " 797: 'さっき',\n",
              " 798: 'さっさと',\n",
              " 799: 'さっぱり',\n",
              " 800: 'さて',\n",
              " 801: 'さておき',\n",
              " 802: 'さて置き',\n",
              " 803: 'さばき',\n",
              " 804: 'さほど',\n",
              " 805: 'さま',\n",
              " 806: 'さまざま',\n",
              " 807: 'さまたげ',\n",
              " 808: 'さまよい',\n",
              " 809: 'さめ',\n",
              " 810: 'さめざめ',\n",
              " 811: 'さめる',\n",
              " 812: 'さも',\n",
              " 813: 'さらさ',\n",
              " 814: 'さらし首',\n",
              " 815: 'さらす',\n",
              " 816: 'さらっ',\n",
              " 817: 'さらなる',\n",
              " 818: 'さらに',\n",
              " 819: 'さらり',\n",
              " 820: 'さらわ',\n",
              " 821: 'さり気なく',\n",
              " 822: 'さる',\n",
              " 823: 'さわやか',\n",
              " 824: 'さん',\n",
              " 825: 'さんざん',\n",
              " 826: 'ざま',\n",
              " 827: 'ざる',\n",
              " 828: 'ざわざわ',\n",
              " 829: 'ざんす',\n",
              " 830: 'し',\n",
              " 831: 'しい',\n",
              " 832: 'しおらしい',\n",
              " 833: 'しか',\n",
              " 834: 'しかし',\n",
              " 835: 'しかめ',\n",
              " 836: 'しかも',\n",
              " 837: 'しかる',\n",
              " 838: 'しがみつい',\n",
              " 839: 'しき',\n",
              " 840: 'しきり',\n",
              " 841: 'しく',\n",
              " 842: 'しけじけ',\n",
              " 843: 'しさっ',\n",
              " 844: 'しずく',\n",
              " 845: 'したがっ',\n",
              " 846: 'したく',\n",
              " 847: 'したたり落ち',\n",
              " 848: 'したたる',\n",
              " 849: 'したて',\n",
              " 850: 'しっかり',\n",
              " 851: 'しっくり',\n",
              " 852: 'しっとり',\n",
              " 853: 'しつらえ',\n",
              " 854: 'しと',\n",
              " 855: 'しとやか',\n",
              " 856: 'しどろ',\n",
              " 857: 'しどろもどろ',\n",
              " 858: 'しなやか',\n",
              " 859: 'しのび',\n",
              " 860: 'しばし',\n",
              " 861: 'しばしば',\n",
              " 862: 'しばらく',\n",
              " 863: 'しばりつけ',\n",
              " 864: 'しびれ',\n",
              " 865: 'しぶき',\n",
              " 866: 'しまい',\n",
              " 867: 'しまい込ん',\n",
              " 868: 'しまう',\n",
              " 869: 'しまえ',\n",
              " 870: 'しまおう',\n",
              " 871: 'しまっ',\n",
              " 872: 'しまわ',\n",
              " 873: 'しみ',\n",
              " 874: 'しみじみ',\n",
              " 875: 'しめ',\n",
              " 876: 'しめた',\n",
              " 877: 'しめっぽく',\n",
              " 878: 'しめつけ',\n",
              " 879: 'しめる',\n",
              " 880: 'しも',\n",
              " 881: 'しゃ',\n",
              " 882: 'しゃがみ',\n",
              " 883: 'しゃべり',\n",
              " 884: 'しゃんしゃん',\n",
              " 885: 'しよう',\n",
              " 886: 'しらばくれ',\n",
              " 887: 'しれ',\n",
              " 888: 'しろ',\n",
              " 889: 'しわがれ',\n",
              " 890: 'しんと',\n",
              " 891: 'じ',\n",
              " 892: 'じか',\n",
              " 893: 'じき',\n",
              " 894: 'じぎ',\n",
              " 895: 'じっくり',\n",
              " 896: 'じっと',\n",
              " 897: 'じまっ',\n",
              " 898: 'じみ',\n",
              " 899: 'じゃ',\n",
              " 900: 'じゃあ',\n",
              " 901: 'じゃれつい',\n",
              " 902: 'じゅう',\n",
              " 903: 'じゅうたん',\n",
              " 904: 'じりじり',\n",
              " 905: 'じろじろ',\n",
              " 906: 'す',\n",
              " 907: 'すかし',\n",
              " 908: 'すがっ',\n",
              " 909: 'すがりつい',\n",
              " 910: 'すぎ',\n",
              " 911: 'すぎる',\n",
              " 912: 'すくっ',\n",
              " 913: 'すくん',\n",
              " 914: 'すぐ',\n",
              " 915: 'すこし',\n",
              " 916: 'すこぶる',\n",
              " 917: 'すごい',\n",
              " 918: 'すごく',\n",
              " 919: 'すさまじ',\n",
              " 920: 'すすめ',\n",
              " 921: 'すすり泣き',\n",
              " 922: 'すたすた',\n",
              " 923: 'すっ',\n",
              " 924: 'すっかり',\n",
              " 925: 'すっきり',\n",
              " 926: 'すっごく',\n",
              " 927: 'すてき',\n",
              " 928: 'すでに',\n",
              " 929: 'すなわち',\n",
              " 930: 'すばらしい',\n",
              " 931: 'すばらしく',\n",
              " 932: 'すべ',\n",
              " 933: 'すべすべ',\n",
              " 934: 'すべた',\n",
              " 935: 'すべっこい',\n",
              " 936: 'すべて',\n",
              " 937: 'すぽり',\n",
              " 938: 'すま',\n",
              " 939: 'すまさ',\n",
              " 940: 'すまし',\n",
              " 941: 'すます',\n",
              " 942: 'すむ',\n",
              " 943: 'すやすや',\n",
              " 944: 'すら',\n",
              " 945: 'すりつける',\n",
              " 946: 'すり合わせ',\n",
              " 947: 'すり替え',\n",
              " 948: 'する',\n",
              " 949: 'すれ',\n",
              " 950: 'すーっ',\n",
              " 951: 'す早',\n",
              " 952: 'す早く',\n",
              " 953: 'ず',\n",
              " 954: 'ずいぶん',\n",
              " 955: 'ずく',\n",
              " 956: 'ずっと',\n",
              " 957: 'ずつ',\n",
              " 958: 'ずば抜け',\n",
              " 959: 'ずらし',\n",
              " 960: 'ずり',\n",
              " 961: 'ずれ',\n",
              " 962: 'ずんずん',\n",
              " 963: 'せ',\n",
              " 964: 'せい',\n",
              " 965: 'せがん',\n",
              " 966: 'せき込ん',\n",
              " 967: 'せっかく',\n",
              " 968: 'せっせと',\n",
              " 969: 'せっぱつまっ',\n",
              " 970: 'せまり',\n",
              " 971: 'せまる',\n",
              " 972: 'せめて',\n",
              " 973: 'せよ',\n",
              " 974: 'せよう',\n",
              " 975: 'せりふ',\n",
              " 976: 'せる',\n",
              " 977: 'せれ',\n",
              " 978: 'せわしく',\n",
              " 979: 'せわしない',\n",
              " 980: 'せん',\n",
              " 981: 'ぜ',\n",
              " 982: 'ぜひ',\n",
              " 983: 'ぜんまい',\n",
              " 984: 'そ',\n",
              " 985: 'そいつ',\n",
              " 986: 'そう',\n",
              " 987: 'そうこう',\n",
              " 988: 'そうそう',\n",
              " 989: 'そえ',\n",
              " 990: 'そこ',\n",
              " 991: 'そこここ',\n",
              " 992: 'そこそこ',\n",
              " 993: 'そして',\n",
              " 994: 'そそっ',\n",
              " 995: 'そそのかし',\n",
              " 996: 'そそら',\n",
              " 997: 'そそる',\n",
              " 998: 'そぞろ',\n",
              " 999: 'そちら',\n",
              " ...}"
            ]
          },
          "metadata": {},
          "execution_count": 93
        }
      ]
    },
    {
      "cell_type": "code",
      "execution_count": 94,
      "metadata": {
        "id": "bjOhL1Kdg4bf",
        "colab": {
          "base_uri": "https://localhost:8080/",
          "height": 17
        },
        "outputId": "3249bc33-cb46-4878-b926-32327ae3090c"
      },
      "outputs": [
        {
          "output_type": "display_data",
          "data": {
            "text/plain": [
              "<IPython.core.display.HTML object>"
            ],
            "text/html": [
              "\n",
              "  <style>\n",
              "    pre {\n",
              "        white-space: pre-wrap;\n",
              "    }\n",
              "  </style>\n",
              "  "
            ]
          },
          "metadata": {}
        }
      ],
      "source": [
        "# Dataset と DataLoader\n",
        "dataset = Dataset(vocab, pre_train_corpus, context_size)\n",
        "train_dataloader = DataLoader(dataset, batch_size, shuffle=True)\n",
        "test_dataloader = DataLoader(dataset, batch_size=1, shuffle=False)"
      ]
    },
    {
      "cell_type": "code",
      "source": [
        "# 語彙数の取得\n",
        "vocab_size = dataset.vocab_size\n",
        "vocab_size"
      ],
      "metadata": {
        "id": "al72q1Tz9vJw",
        "colab": {
          "base_uri": "https://localhost:8080/",
          "height": 34
        },
        "outputId": "e18efeb5-547a-4085-eb61-fbfae2569d82"
      },
      "execution_count": 95,
      "outputs": [
        {
          "output_type": "display_data",
          "data": {
            "text/plain": [
              "<IPython.core.display.HTML object>"
            ],
            "text/html": [
              "\n",
              "  <style>\n",
              "    pre {\n",
              "        white-space: pre-wrap;\n",
              "    }\n",
              "  </style>\n",
              "  "
            ]
          },
          "metadata": {}
        },
        {
          "output_type": "execute_result",
          "data": {
            "text/plain": [
              "14597"
            ]
          },
          "metadata": {},
          "execution_count": 95
        }
      ]
    },
    {
      "cell_type": "code",
      "source": [
        "dataset.word2index['<PAD>']\n"
      ],
      "metadata": {
        "colab": {
          "base_uri": "https://localhost:8080/",
          "height": 34
        },
        "id": "qFupR8H_MESd",
        "outputId": "3493ee5e-d5c4-47ef-f36b-65ffdb448b67"
      },
      "execution_count": 96,
      "outputs": [
        {
          "output_type": "display_data",
          "data": {
            "text/plain": [
              "<IPython.core.display.HTML object>"
            ],
            "text/html": [
              "\n",
              "  <style>\n",
              "    pre {\n",
              "        white-space: pre-wrap;\n",
              "    }\n",
              "  </style>\n",
              "  "
            ]
          },
          "metadata": {}
        },
        {
          "output_type": "execute_result",
          "data": {
            "text/plain": [
              "0"
            ]
          },
          "metadata": {},
          "execution_count": 96
        }
      ]
    },
    {
      "cell_type": "code",
      "source": [
        "vocab.word2index['私']"
      ],
      "metadata": {
        "colab": {
          "base_uri": "https://localhost:8080/",
          "height": 34
        },
        "id": "UFIzt7FjMBPW",
        "outputId": "768da442-0763-4858-d43d-3c4eac8a6641"
      },
      "execution_count": 97,
      "outputs": [
        {
          "output_type": "display_data",
          "data": {
            "text/plain": [
              "<IPython.core.display.HTML object>"
            ],
            "text/html": [
              "\n",
              "  <style>\n",
              "    pre {\n",
              "        white-space: pre-wrap;\n",
              "    }\n",
              "  </style>\n",
              "  "
            ]
          },
          "metadata": {}
        },
        {
          "output_type": "execute_result",
          "data": {
            "text/plain": [
              "10878"
            ]
          },
          "metadata": {},
          "execution_count": 97
        }
      ]
    },
    {
      "cell_type": "code",
      "source": [
        "# 語彙の辞書をファイルに保存\n",
        "import pickle\n",
        "with open(vocab_path, 'wb') as f:\n",
        "    pickle.dump(vocab, f)"
      ],
      "metadata": {
        "colab": {
          "base_uri": "https://localhost:8080/",
          "height": 17
        },
        "id": "_H-nZ4eKv2QD",
        "outputId": "4dc8b208-d4a6-43a6-ebe8-c281e2823369"
      },
      "execution_count": 98,
      "outputs": [
        {
          "output_type": "display_data",
          "data": {
            "text/plain": [
              "<IPython.core.display.HTML object>"
            ],
            "text/html": [
              "\n",
              "  <style>\n",
              "    pre {\n",
              "        white-space: pre-wrap;\n",
              "    }\n",
              "  </style>\n",
              "  "
            ]
          },
          "metadata": {}
        }
      ]
    },
    {
      "cell_type": "code",
      "execution_count": 99,
      "metadata": {
        "id": "pSpMMSODy2ES",
        "colab": {
          "base_uri": "https://localhost:8080/",
          "height": 277
        },
        "outputId": "a7d52e76-4127-4ac3-a985-f04a6f33f659"
      },
      "outputs": [
        {
          "output_type": "display_data",
          "data": {
            "text/plain": [
              "<IPython.core.display.HTML object>"
            ],
            "text/html": [
              "\n",
              "  <style>\n",
              "    pre {\n",
              "        white-space: pre-wrap;\n",
              "    }\n",
              "  </style>\n",
              "  "
            ]
          },
          "metadata": {}
        },
        {
          "output_type": "execute_result",
          "data": {
            "text/plain": [
              "tensor([[1, 0, 0, 0, 0, 0, 0, 0, 0, 0, 0, 0, 0, 0, 0],\n",
              "        [1, 1, 0, 0, 0, 0, 0, 0, 0, 0, 0, 0, 0, 0, 0],\n",
              "        [1, 1, 1, 0, 0, 0, 0, 0, 0, 0, 0, 0, 0, 0, 0],\n",
              "        [1, 1, 1, 1, 0, 0, 0, 0, 0, 0, 0, 0, 0, 0, 0],\n",
              "        [1, 1, 1, 1, 1, 0, 0, 0, 0, 0, 0, 0, 0, 0, 0],\n",
              "        [1, 1, 1, 1, 1, 1, 0, 0, 0, 0, 0, 0, 0, 0, 0],\n",
              "        [1, 1, 1, 1, 1, 1, 1, 0, 0, 0, 0, 0, 0, 0, 0],\n",
              "        [1, 1, 1, 1, 1, 1, 1, 1, 0, 0, 0, 0, 0, 0, 0],\n",
              "        [1, 1, 1, 1, 1, 1, 1, 1, 1, 0, 0, 0, 0, 0, 0],\n",
              "        [1, 1, 1, 1, 1, 1, 1, 1, 1, 1, 0, 0, 0, 0, 0],\n",
              "        [1, 1, 1, 1, 1, 1, 1, 1, 1, 1, 1, 0, 0, 0, 0],\n",
              "        [1, 1, 1, 1, 1, 1, 1, 1, 1, 1, 1, 1, 0, 0, 0],\n",
              "        [1, 1, 1, 1, 1, 1, 1, 1, 1, 1, 1, 1, 1, 0, 0],\n",
              "        [1, 1, 1, 1, 1, 1, 1, 1, 1, 1, 1, 1, 1, 1, 0],\n",
              "        [1, 1, 1, 1, 1, 1, 1, 1, 1, 1, 1, 1, 1, 1, 1]], device='cuda:0')"
            ]
          },
          "metadata": {},
          "execution_count": 99
        }
      ],
      "source": [
        "# マスク関数\n",
        "mask = create_attention_mask(context_size)\n",
        "mask.to(device)"
      ]
    },
    {
      "cell_type": "code",
      "source": [
        "# 評価モジュールの利用\n",
        "evaluate = Evaluate(dataset, context_size)"
      ],
      "metadata": {
        "id": "PimSxI4ni6Ad",
        "colab": {
          "base_uri": "https://localhost:8080/",
          "height": 17
        },
        "outputId": "fb59beee-53ba-4c64-f714-4a29517d13a3"
      },
      "execution_count": 100,
      "outputs": [
        {
          "output_type": "display_data",
          "data": {
            "text/plain": [
              "<IPython.core.display.HTML object>"
            ],
            "text/html": [
              "\n",
              "  <style>\n",
              "    pre {\n",
              "        white-space: pre-wrap;\n",
              "    }\n",
              "  </style>\n",
              "  "
            ]
          },
          "metadata": {}
        }
      ]
    },
    {
      "cell_type": "code",
      "execution_count": 101,
      "metadata": {
        "id": "sB6vNpdVwY2E",
        "colab": {
          "base_uri": "https://localhost:8080/",
          "height": 520
        },
        "outputId": "db971114-81ba-4d0f-c66f-9f78b5d23155"
      },
      "outputs": [
        {
          "output_type": "display_data",
          "data": {
            "text/plain": [
              "<IPython.core.display.HTML object>"
            ],
            "text/html": [
              "\n",
              "  <style>\n",
              "    pre {\n",
              "        white-space: pre-wrap;\n",
              "    }\n",
              "  </style>\n",
              "  "
            ]
          },
          "metadata": {}
        },
        {
          "output_type": "execute_result",
          "data": {
            "text/plain": [
              "GPT2(\n",
              "  (token_embedding): Embedding(14597, 128)\n",
              "  (positional_encoding): PositionalEncoding()\n",
              "  (dropout): Dropout(p=0.1, inplace=False)\n",
              "  (transformer_block): ModuleList(\n",
              "    (0-2): 3 x TransformerBlock(\n",
              "      (norm_1): LayerNorm((128,), eps=1e-05, elementwise_affine=True)\n",
              "      (norm_2): LayerNorm((128,), eps=1e-05, elementwise_affine=True)\n",
              "      (attn): MultiHeadAttention(\n",
              "        (fc_q): Linear(in_features=128, out_features=128, bias=True)\n",
              "        (fc_k): Linear(in_features=128, out_features=128, bias=True)\n",
              "        (fc_v): Linear(in_features=128, out_features=128, bias=True)\n",
              "        (attention): ScaledDotProductAttention(\n",
              "          (dropout): Dropout(p=0.1, inplace=False)\n",
              "        )\n",
              "        (fc): Linear(in_features=128, out_features=128, bias=True)\n",
              "        (dropout): Dropout(p=0.1, inplace=False)\n",
              "      )\n",
              "      (ff): FeedForward(\n",
              "        (fc1): Linear(in_features=128, out_features=512, bias=True)\n",
              "        (dropout): Dropout(p=0.1, inplace=False)\n",
              "        (fc2): Linear(in_features=512, out_features=128, bias=True)\n",
              "      )\n",
              "      (dropout): Dropout(p=0.1, inplace=False)\n",
              "    )\n",
              "  )\n",
              "  (norm): LayerNorm((128,), eps=1e-05, elementwise_affine=True)\n",
              "  (fc): Linear(in_features=1920, out_features=14597, bias=True)\n",
              ")"
            ]
          },
          "metadata": {},
          "execution_count": 101
        }
      ],
      "source": [
        "# GPTモデルの作成とデバイス対応\n",
        "model = GPT2(vocab_size, context_size, d_model, n_head, n_block)\n",
        "model.to(device)"
      ]
    },
    {
      "cell_type": "code",
      "execution_count": 102,
      "metadata": {
        "id": "pcyERJ4afcnc",
        "colab": {
          "base_uri": "https://localhost:8080/",
          "height": 17
        },
        "outputId": "76e91655-bb16-42b8-d2a8-9f6fb410f5bc"
      },
      "outputs": [
        {
          "output_type": "display_data",
          "data": {
            "text/plain": [
              "<IPython.core.display.HTML object>"
            ],
            "text/html": [
              "\n",
              "  <style>\n",
              "    pre {\n",
              "        white-space: pre-wrap;\n",
              "    }\n",
              "  </style>\n",
              "  "
            ]
          },
          "metadata": {}
        }
      ],
      "source": [
        "# クロスエントロピー誤差\n",
        "criterion = nn.CrossEntropyLoss()\n",
        "# 最適化モジュールの利用\n",
        "optimizer = optim.Adam(model.parameters(), lr=learning_rate)"
      ]
    },
    {
      "cell_type": "code",
      "execution_count": 103,
      "metadata": {
        "id": "QNX2TPx6tvju",
        "cellView": "form",
        "colab": {
          "base_uri": "https://localhost:8080/",
          "height": 17
        },
        "outputId": "e21d99b4-65ae-406a-fb38-46cc9642c332"
      },
      "outputs": [
        {
          "output_type": "display_data",
          "data": {
            "text/plain": [
              "<IPython.core.display.HTML object>"
            ],
            "text/html": [
              "\n",
              "  <style>\n",
              "    pre {\n",
              "        white-space: pre-wrap;\n",
              "    }\n",
              "  </style>\n",
              "  "
            ]
          },
          "metadata": {}
        }
      ],
      "source": [
        "is_load_model = False # @param{type:\"boolean\"}\n",
        "if is_load_model:\n",
        "    model.load_state_dict(torch.load(pre_trained_model_path, map_location=device))\n",
        "    print('ok')"
      ]
    },
    {
      "cell_type": "markdown",
      "metadata": {
        "id": "V9xWY2XnzY6r"
      },
      "source": [
        "# 学習"
      ]
    },
    {
      "cell_type": "code",
      "execution_count": 104,
      "metadata": {
        "id": "MYIxZBQvRTVe",
        "colab": {
          "base_uri": "https://localhost:8080/",
          "height": 17
        },
        "outputId": "d79e0517-92e3-46d6-811a-129339115b79"
      },
      "outputs": [
        {
          "output_type": "display_data",
          "data": {
            "text/plain": [
              "<IPython.core.display.HTML object>"
            ],
            "text/html": [
              "\n",
              "  <style>\n",
              "    pre {\n",
              "        white-space: pre-wrap;\n",
              "    }\n",
              "  </style>\n",
              "  "
            ]
          },
          "metadata": {}
        }
      ],
      "source": [
        "#@title 初期化\n",
        "start_epoch = 0\n",
        "history = {\"train_loss\": []}"
      ]
    },
    {
      "cell_type": "code",
      "source": [
        "start_epoch = 0  # から続き"
      ],
      "metadata": {
        "id": "S0Os_R74W2sZ",
        "colab": {
          "base_uri": "https://localhost:8080/",
          "height": 17
        },
        "outputId": "666198a8-866f-407d-e47b-28cbbd5b565a"
      },
      "execution_count": 105,
      "outputs": [
        {
          "output_type": "display_data",
          "data": {
            "text/plain": [
              "<IPython.core.display.HTML object>"
            ],
            "text/html": [
              "\n",
              "  <style>\n",
              "    pre {\n",
              "        white-space: pre-wrap;\n",
              "    }\n",
              "  </style>\n",
              "  "
            ]
          },
          "metadata": {}
        }
      ]
    },
    {
      "cell_type": "code",
      "source": [
        "from tqdm import tqdm"
      ],
      "metadata": {
        "colab": {
          "base_uri": "https://localhost:8080/",
          "height": 17
        },
        "id": "1bCji4u4N1TG",
        "outputId": "87ca26c2-bcc3-4072-d5f6-c9fe7292940b"
      },
      "execution_count": 106,
      "outputs": [
        {
          "output_type": "display_data",
          "data": {
            "text/plain": [
              "<IPython.core.display.HTML object>"
            ],
            "text/html": [
              "\n",
              "  <style>\n",
              "    pre {\n",
              "        white-space: pre-wrap;\n",
              "    }\n",
              "  </style>\n",
              "  "
            ]
          },
          "metadata": {}
        }
      ]
    },
    {
      "cell_type": "code",
      "source": [
        "#@title Train\n",
        "model = model.to(device)\n",
        "mask = mask.to(device)\n",
        "\n",
        "# Epoch数まで繰り返し\n",
        "for epoch in range(start_epoch, num_epochs):\n",
        "\n",
        "    # 損失の累計をリセット\n",
        "    running_loss = 0.0\n",
        "\n",
        "    # 学習モードに変更\n",
        "    model.train()\n",
        "\n",
        "    # 学習データセット全体をバッチ単位で処理\n",
        "    for i, batch in enumerate(tqdm(train_dataloader)):\n",
        "\n",
        "        # 入力元データと教師データ\n",
        "        source = batch['source'].to(device)\n",
        "        target = batch['target'].to(device).view(-1)\n",
        "\n",
        "        # 勾配のリセット\n",
        "        optimizer.zero_grad()\n",
        "\n",
        "        # 推論\n",
        "        outputs, _, _ = model(source, None, mask)\n",
        "\n",
        "        # 損失計算\n",
        "        loss = criterion(outputs, target)\n",
        "\n",
        "        # 誤差逆伝播\n",
        "        loss.backward()\n",
        "\n",
        "        # 学習パラメータの更新\n",
        "        optimizer.step()\n",
        "\n",
        "        # 損失の累積\n",
        "        running_loss += loss.item()\n",
        "\n",
        "    # 損失の履歴を作成\n",
        "    train_loss = running_loss / len(train_dataloader)\n",
        "    history[\"train_loss\"].append(train_loss)\n",
        "\n",
        "    # 開始epochの更新\n",
        "    start_epoch = epoch\n",
        "\n",
        "    # 損失の確認\n",
        "    if epoch % 1 == 0:\n",
        "        print(f\"epoch:{epoch+1}  index:{i+1} loss:{train_loss:.6f}\")\n",
        "        evaluate.predict(source, target, outputs)\n",
        "\n",
        "    # モデルの保存\n",
        "    if epoch % 1 == 0 and epoch != 0:\n",
        "        torch.save(model.state_dict(), pre_trained_model_path )\n",
        "        print(\"Saved.\")\n",
        "\n",
        "    # グラフの描画\n",
        "    if epoch % 5 == 0 and epoch != 0:\n",
        "        plt.plot(history['train_loss'])\n",
        "        plt.show()\n"
      ],
      "metadata": {
        "id": "wt2xmsl9fsBp",
        "colab": {
          "base_uri": "https://localhost:8080/",
          "height": 478
        },
        "outputId": "dfec3ec3-700f-482e-de2b-930b8b51bf60"
      },
      "execution_count": 107,
      "outputs": [
        {
          "output_type": "display_data",
          "data": {
            "text/plain": [
              "<IPython.core.display.HTML object>"
            ],
            "text/html": [
              "\n",
              "  <style>\n",
              "    pre {\n",
              "        white-space: pre-wrap;\n",
              "    }\n",
              "  </style>\n",
              "  "
            ]
          },
          "metadata": {}
        },
        {
          "output_type": "stream",
          "name": "stderr",
          "text": [
            "100%|██████████| 4585/4585 [01:37<00:00, 47.05it/s]\n"
          ]
        },
        {
          "output_type": "stream",
          "name": "stdout",
          "text": [
            "epoch:1  index:4585 loss:5.585066\n",
            "source 連中 も 、 娘 の 文代 まで 、 行衛 知れ ず に なっ て い \n",
            "target た\n",
            "output た\n",
            "\n"
          ]
        },
        {
          "output_type": "stream",
          "name": "stderr",
          "text": [
            "  4%|▍         | 176/4585 [00:04<01:44, 42.29it/s]\n"
          ]
        },
        {
          "output_type": "error",
          "ename": "KeyboardInterrupt",
          "evalue": "",
          "traceback": [
            "\u001b[0;31m---------------------------------------------------------------------------\u001b[0m",
            "\u001b[0;31mKeyboardInterrupt\u001b[0m                         Traceback (most recent call last)",
            "\u001b[0;32m<ipython-input-107-7df7a836823e>\u001b[0m in \u001b[0;36m<cell line: 6>\u001b[0;34m()\u001b[0m\n\u001b[1;32m     29\u001b[0m \u001b[0;34m\u001b[0m\u001b[0m\n\u001b[1;32m     30\u001b[0m         \u001b[0;31m# 誤差逆伝播\u001b[0m\u001b[0;34m\u001b[0m\u001b[0;34m\u001b[0m\u001b[0m\n\u001b[0;32m---> 31\u001b[0;31m         \u001b[0mloss\u001b[0m\u001b[0;34m.\u001b[0m\u001b[0mbackward\u001b[0m\u001b[0;34m(\u001b[0m\u001b[0;34m)\u001b[0m\u001b[0;34m\u001b[0m\u001b[0;34m\u001b[0m\u001b[0m\n\u001b[0m\u001b[1;32m     32\u001b[0m \u001b[0;34m\u001b[0m\u001b[0m\n\u001b[1;32m     33\u001b[0m         \u001b[0;31m# 学習パラメータの更新\u001b[0m\u001b[0;34m\u001b[0m\u001b[0;34m\u001b[0m\u001b[0m\n",
            "\u001b[0;32m/usr/local/lib/python3.10/dist-packages/torch/_tensor.py\u001b[0m in \u001b[0;36mbackward\u001b[0;34m(self, gradient, retain_graph, create_graph, inputs)\u001b[0m\n\u001b[1;32m    579\u001b[0m                 \u001b[0minputs\u001b[0m\u001b[0;34m=\u001b[0m\u001b[0minputs\u001b[0m\u001b[0;34m,\u001b[0m\u001b[0;34m\u001b[0m\u001b[0;34m\u001b[0m\u001b[0m\n\u001b[1;32m    580\u001b[0m             )\n\u001b[0;32m--> 581\u001b[0;31m         torch.autograd.backward(\n\u001b[0m\u001b[1;32m    582\u001b[0m             \u001b[0mself\u001b[0m\u001b[0;34m,\u001b[0m \u001b[0mgradient\u001b[0m\u001b[0;34m,\u001b[0m \u001b[0mretain_graph\u001b[0m\u001b[0;34m,\u001b[0m \u001b[0mcreate_graph\u001b[0m\u001b[0;34m,\u001b[0m \u001b[0minputs\u001b[0m\u001b[0;34m=\u001b[0m\u001b[0minputs\u001b[0m\u001b[0;34m\u001b[0m\u001b[0;34m\u001b[0m\u001b[0m\n\u001b[1;32m    583\u001b[0m         )\n",
            "\u001b[0;32m/usr/local/lib/python3.10/dist-packages/torch/autograd/__init__.py\u001b[0m in \u001b[0;36mbackward\u001b[0;34m(tensors, grad_tensors, retain_graph, create_graph, grad_variables, inputs)\u001b[0m\n\u001b[1;32m    345\u001b[0m     \u001b[0;31m# some Python versions print out the first line of a multi-line function\u001b[0m\u001b[0;34m\u001b[0m\u001b[0;34m\u001b[0m\u001b[0m\n\u001b[1;32m    346\u001b[0m     \u001b[0;31m# calls in the traceback and some print out the last line\u001b[0m\u001b[0;34m\u001b[0m\u001b[0;34m\u001b[0m\u001b[0m\n\u001b[0;32m--> 347\u001b[0;31m     _engine_run_backward(\n\u001b[0m\u001b[1;32m    348\u001b[0m         \u001b[0mtensors\u001b[0m\u001b[0;34m,\u001b[0m\u001b[0;34m\u001b[0m\u001b[0;34m\u001b[0m\u001b[0m\n\u001b[1;32m    349\u001b[0m         \u001b[0mgrad_tensors_\u001b[0m\u001b[0;34m,\u001b[0m\u001b[0;34m\u001b[0m\u001b[0;34m\u001b[0m\u001b[0m\n",
            "\u001b[0;32m/usr/local/lib/python3.10/dist-packages/torch/autograd/graph.py\u001b[0m in \u001b[0;36m_engine_run_backward\u001b[0;34m(t_outputs, *args, **kwargs)\u001b[0m\n\u001b[1;32m    823\u001b[0m         \u001b[0munregister_hooks\u001b[0m \u001b[0;34m=\u001b[0m \u001b[0m_register_logging_hooks_on_whole_graph\u001b[0m\u001b[0;34m(\u001b[0m\u001b[0mt_outputs\u001b[0m\u001b[0;34m)\u001b[0m\u001b[0;34m\u001b[0m\u001b[0;34m\u001b[0m\u001b[0m\n\u001b[1;32m    824\u001b[0m     \u001b[0;32mtry\u001b[0m\u001b[0;34m:\u001b[0m\u001b[0;34m\u001b[0m\u001b[0;34m\u001b[0m\u001b[0m\n\u001b[0;32m--> 825\u001b[0;31m         return Variable._execution_engine.run_backward(  # Calls into the C++ engine to run the backward pass\n\u001b[0m\u001b[1;32m    826\u001b[0m             \u001b[0mt_outputs\u001b[0m\u001b[0;34m,\u001b[0m \u001b[0;34m*\u001b[0m\u001b[0margs\u001b[0m\u001b[0;34m,\u001b[0m \u001b[0;34m**\u001b[0m\u001b[0mkwargs\u001b[0m\u001b[0;34m\u001b[0m\u001b[0;34m\u001b[0m\u001b[0m\n\u001b[1;32m    827\u001b[0m         )  # Calls into the C++ engine to run the backward pass\n",
            "\u001b[0;31mKeyboardInterrupt\u001b[0m: "
          ]
        }
      ]
    },
    {
      "cell_type": "markdown",
      "metadata": {
        "id": "vrp3mfvOzH8P"
      },
      "source": [
        "# Test"
      ]
    },
    {
      "cell_type": "code",
      "execution_count": null,
      "metadata": {
        "id": "k5iV5ZtAwpoC"
      },
      "outputs": [],
      "source": [
        "sample_corpus = \"この商品はおすすめできますが、温度調整が不安定で\" #@param{type:\"string\"}\n",
        "parsed_corpus = tagger.parse(sample_corpus)\n",
        "seq_size = len(parsed_corpus.split())\n",
        "mask = create_attention_mask(context_size )\n",
        "# mask[:,seq_size:] = 0\n",
        "Mask = None\n",
        "print(parsed_corpus.split()[:context_size])\n",
        "evaluate.generate2(parsed_corpus, model, mask)"
      ]
    }
  ],
  "metadata": {
    "colab": {
      "provenance": [],
      "gpuType": "T4",
      "include_colab_link": true
    },
    "kernelspec": {
      "display_name": "Python 3",
      "name": "python3"
    },
    "language_info": {
      "name": "python"
    },
    "accelerator": "GPU"
  },
  "nbformat": 4,
  "nbformat_minor": 0
}