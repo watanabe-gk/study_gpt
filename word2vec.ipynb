{
  "nbformat": 4,
  "nbformat_minor": 0,
  "metadata": {
    "colab": {
      "provenance": [],
      "include_colab_link": true
    },
    "kernelspec": {
      "name": "python3",
      "display_name": "Python 3"
    },
    "language_info": {
      "name": "python"
    }
  },
  "cells": [
    {
      "cell_type": "markdown",
      "metadata": {
        "id": "view-in-github",
        "colab_type": "text"
      },
      "source": [
        "<a href=\"https://colab.research.google.com/github/watanabe-gk/study_gpt/blob/stg/word2vec.ipynb\" target=\"_parent\"><img src=\"https://colab.research.google.com/assets/colab-badge.svg\" alt=\"Open In Colab\"/></a>"
      ]
    },
    {
      "cell_type": "code",
      "source": [
        "#@title ライブラリーの利用\n",
        "!git clone https://github.com/Michi-123/whiteGPT"
      ],
      "metadata": {
        "id": "TJ5435LcL_ze",
        "outputId": "aa0f7b44-6661-4111-d657-2b57de71aee0",
        "colab": {
          "base_uri": "https://localhost:8080/",
          "height": 35
        }
      },
      "execution_count": null,
      "outputs": [
        {
          "output_type": "display_data",
          "data": {
            "text/plain": [
              "<IPython.core.display.HTML object>"
            ],
            "text/html": [
              "\n",
              "  <style>\n",
              "    pre {\n",
              "        white-space: pre-wrap;\n",
              "    }\n",
              "  </style>\n",
              "  "
            ]
          },
          "metadata": {}
        },
        {
          "output_type": "stream",
          "name": "stdout",
          "text": [
            "fatal: destination path 'whiteGPT' already exists and is not an empty directory.\n"
          ]
        }
      ]
    },
    {
      "cell_type": "markdown",
      "source": [
        "https://en.wikipedia.org/wiki/Word2vec"
      ],
      "metadata": {
        "id": "GR13TdFnH7LJ"
      }
    },
    {
      "cell_type": "code",
      "source": [
        "#@title ライブラリーの読み込み\n",
        "import random\n",
        "import torch\n",
        "import torch.nn as nn\n",
        "import torch.optim as optim\n",
        "from whiteGPT import word2vec\n",
        "from whiteGPT import CBOW\n",
        "from whiteGPT import Vocab"
      ],
      "metadata": {
        "id": "9I1HAQyk2IaY",
        "colab": {
          "base_uri": "https://localhost:8080/",
          "height": 17
        },
        "outputId": "a729c266-03e9-4fb8-c0a1-5d093fc85b7e"
      },
      "execution_count": null,
      "outputs": [
        {
          "output_type": "display_data",
          "data": {
            "text/plain": [
              "<IPython.core.display.HTML object>"
            ],
            "text/html": [
              "\n",
              "  <style>\n",
              "    pre {\n",
              "        white-space: pre-wrap;\n",
              "    }\n",
              "  </style>\n",
              "  "
            ]
          },
          "metadata": {}
        }
      ]
    },
    {
      "cell_type": "code",
      "source": [
        "# @title 学習用のテキストデータ\n",
        "corpus_list = [\n",
        "    \"this animal is cat.\",\n",
        "    \"the quick brown fox jumps over the lazy dog.\",\n",
        "    \"dog and cat are animal.\",\n",
        "    \"I love dogs and cats.\",\n",
        "    \"the dog sat on the rug.\",\n",
        "    \"cats are independent animals. \",\n",
        "    \"foxes are wild animals.\",\n",
        "    \"The cat prowled through the moonlit garden.\",\n",
        "    \"Dogs eagerly awaited their owner's return at the doorstep.\",\n",
        "    \"A cat's purr filled the room with comfort.\",\n",
        "    \"The dog wagged its tail in excitement.\",\n",
        "    \"Cats gracefully leaped from rooftop to rooftop.\",\n",
        "\n",
        "    \"Walking down the street, I spotted a stray dog searching for scraps.\",\n",
        "    \"The cat stretched lazily in the warmth of the sunbeam.\",\n",
        "    \"Dogs barked joyfully in the park.\",\n",
        "    \"A sleek black cat slinked along the fence.\",\n",
        "    \"The old dog snoozed contentedly by the fireplace.\",\n",
        "    \"Cats darted through the alleyways, chasing shadows.\",\n",
        "    \"A fluffy white cat napped peacefully on the windowsill.\",\n",
        "\n",
        "    \"Dogs are furry friends who love to play fetch and cuddle with you.\",\n",
        "    \"Cats are soft and independent pets that enjoy lounging in sunny spots.\",\n",
        "    \"Dogs wag their tails when they're happy and bark to say hello.\",\n",
        "    \"Cats purr when they're content and love to curl up in your lap.\",\n",
        "\n",
        "    \"Fido loves going for car rides, he always sticks his head out the window with a goofy grin.\",\n",
        "    \"the old dog hobbled over to greet us, his tail thumping gently against the floor.\",\n",
        "    \"the cat perched regally on the windowsill, surveying its outdoor kingdom. \",\n",
        "    \"the cat stalked a dust bunny across the floor, pouncing with laser focus. \",\n",
        "    \"the neighbor's cat, notorious for its thievery, snuck into our yard and made off with a shiny red ball of yarn. \",\n",
        "    \"curled up with a good book, I felt a soft nudge – my cat, wanting some attention, was rubbing against my leg. \",\n",
        "    \"the therapy dog, with its gentle demeanor, brought a wave of calm to the anxious patients in the waiting room.\",\n",
        "    \"despite their different personalities, the dog and cat often napped curled up together. \",\n",
        "    \"we need to buy more cat food, Whiskers seems to be inhaling everything in the bow. \",\n",
        "    \"despite being a scaredy cat, Luna the ginger bravely explored every corner of the new house. \",\n",
        "    \"Max the dog spent all afternoon digging a hole in the backyard, much to the gardener's dismay. \",\n",
        "    \"the smell of freshly baked cookies lured the cat out from its hiding spot. \",\n",
        "    \"during thunderstorms, Milo the dog would huddle under the bed, trembling uncontrollably. \",\n",
        "    \"we adopted a pair of playful kittens, and now our living room is a whirlwind of fur and feathery toys. \",\n",
        "    \"every morning, the rooster crows and the dog barks, creating a chaotic symphony to wake up the household. \"\n",
        "]"
      ],
      "metadata": {
        "id": "cF62eOmUfzg_",
        "outputId": "168d4fad-f1d6-475f-a113-11c2f3304cc8",
        "colab": {
          "base_uri": "https://localhost:8080/",
          "height": 17
        }
      },
      "execution_count": null,
      "outputs": [
        {
          "output_type": "display_data",
          "data": {
            "text/plain": [
              "<IPython.core.display.HTML object>"
            ],
            "text/html": [
              "\n",
              "  <style>\n",
              "    pre {\n",
              "        white-space: pre-wrap;\n",
              "    }\n",
              "  </style>\n",
              "  "
            ]
          },
          "metadata": {}
        }
      ]
    },
    {
      "cell_type": "code",
      "source": [
        "# @title テスト用のテキストデータ\n",
        "test_corpus_list = [\n",
        "    \"this animal is dog \",\n",
        "    \"the old cat hobbled \",\n",
        "    \"the dog perched regally \",\n",
        "    \"quick brown cat jumps \",\n",
        "    \"cat and dog often \",\n",
        "    \"the dog out from \",\n",
        "    \"Fido the cat would \",\n",
        "    \"Luna the cat spent \",\n",
        "    \"neighbor's dog \",\n",
        "    \"cat stalked a dust \",\n",
        "    \"buy more cat food\",\n",
        "    \"cat and the dog barks\",\n",
        "]"
      ],
      "metadata": {
        "id": "wqu33m_WFtxb",
        "outputId": "1954735e-bc10-4e41-c3b0-fa0ace0da18b",
        "colab": {
          "base_uri": "https://localhost:8080/",
          "height": 17
        }
      },
      "execution_count": null,
      "outputs": [
        {
          "output_type": "display_data",
          "data": {
            "text/plain": [
              "<IPython.core.display.HTML object>"
            ],
            "text/html": [
              "\n",
              "  <style>\n",
              "    pre {\n",
              "        white-space: pre-wrap;\n",
              "    }\n",
              "  </style>\n",
              "  "
            ]
          },
          "metadata": {}
        }
      ]
    },
    {
      "cell_type": "markdown",
      "source": [
        "# CBOWモデルの学習"
      ],
      "metadata": {
        "id": "2t8wyIIW2vhN"
      }
    },
    {
      "cell_type": "code",
      "source": [
        "# @title ハイパー・パラメータの設定\n",
        "# @markdown 埋め込みの次元の数\n",
        "embedding_dim = 16 #@param{type:'integer'}\n",
        "# @markdown エポック数\n",
        "num_epoch = 300 #@param{type:'integer'}\n",
        "# @markdown 学習係数（学習率）\n",
        "learning_rate = 0.001 #@param{type:'number'}\n",
        "# @markdown 入力枠\n",
        "window_size = 3 #@param{type:'integer'}\n",
        "# word2vec.window_size = window_size"
      ],
      "metadata": {
        "cellView": "form",
        "id": "9xGDByxwa4cW",
        "colab": {
          "base_uri": "https://localhost:8080/",
          "height": 17
        },
        "outputId": "5f2613d2-7f2d-4e80-dbf2-2929f9ce7da5"
      },
      "execution_count": null,
      "outputs": [
        {
          "output_type": "display_data",
          "data": {
            "text/plain": [
              "<IPython.core.display.HTML object>"
            ],
            "text/html": [
              "\n",
              "  <style>\n",
              "    pre {\n",
              "        white-space: pre-wrap;\n",
              "    }\n",
              "  </style>\n",
              "  "
            ]
          },
          "metadata": {}
        }
      ]
    },
    {
      "cell_type": "code",
      "source": [
        "# @title インスタンス化\n",
        "# 学習しやすいデータに加工します\n",
        "train_corpus = word2vec.modify(corpus_list, window_size)\n",
        "\n",
        "# Dataset\n",
        "vocab = Vocab(train_corpus)\n",
        "train_dataset = word2vec.TextDataset(vocab, train_corpus, window_size)\n",
        "train_dataloader = word2vec.DataLoader(train_dataset, batch_size=4, shuffle=True)\n",
        "test_dataset = word2vec.TextDataset(vocab, '', window_size)\n",
        "# 検証しやすいデータを設定します\n",
        "test_dataset.test_corpus(test_corpus_list)\n",
        "\n",
        "# 損失関数の計算\n",
        "criterion = nn.CrossEntropyLoss()\n",
        "# モデルのインスタンス化\n",
        "model = word2vec.CBOW(vocab.vocab_size, embedding_dim)\n",
        "# 最適化モジュール\n",
        "optimizer = optim.Adam(model.parameters(), lr=learning_rate)"
      ],
      "metadata": {
        "id": "b5Qdw9jWJK7y",
        "colab": {
          "base_uri": "https://localhost:8080/",
          "height": 17
        },
        "outputId": "a2f3bf31-ea0d-4d87-fac8-2496efa407f9"
      },
      "execution_count": null,
      "outputs": [
        {
          "output_type": "display_data",
          "data": {
            "text/plain": [
              "<IPython.core.display.HTML object>"
            ],
            "text/html": [
              "\n",
              "  <style>\n",
              "    pre {\n",
              "        white-space: pre-wrap;\n",
              "    }\n",
              "  </style>\n",
              "  "
            ]
          },
          "metadata": {}
        }
      ]
    },
    {
      "cell_type": "code",
      "source": [
        "# 語彙数の確認\n"
      ],
      "metadata": {
        "id": "aAlCQrsTJrEi"
      },
      "execution_count": null,
      "outputs": []
    },
    {
      "cell_type": "code",
      "source": [
        "# debug\n",
        "train_iter = iter(train_dataloader)\n",
        "next(train_iter)"
      ],
      "metadata": {
        "id": "rCE9-83LwNAh",
        "colab": {
          "base_uri": "https://localhost:8080/",
          "height": 108
        },
        "outputId": "ade0ad12-eceb-4793-dad9-4c2108ab405a"
      },
      "execution_count": null,
      "outputs": [
        {
          "output_type": "display_data",
          "data": {
            "text/plain": [
              "<IPython.core.display.HTML object>"
            ],
            "text/html": [
              "\n",
              "  <style>\n",
              "    pre {\n",
              "        white-space: pre-wrap;\n",
              "    }\n",
              "  </style>\n",
              "  "
            ]
          },
          "metadata": {}
        },
        {
          "output_type": "execute_result",
          "data": {
            "text/plain": [
              "{'source': tensor([[197,   8,   9],\n",
              "         [169,  10,  76],\n",
              "         [ 93,  24, 257],\n",
              "         [  9, 169,  10]]),\n",
              " 'target': tensor([169, 149,  22,  11])}"
            ]
          },
          "metadata": {},
          "execution_count": 40
        }
      ]
    },
    {
      "cell_type": "code",
      "source": [
        "# @title 学習の実行\n",
        "for epoch in range(num_epoch):\n",
        "    total_loss = 0\n",
        "    running_loss = 0.0\n",
        "    for batch in train_dataloader:\n",
        "\n",
        "        # 入力データと教師データの取得\n",
        "        context_indices, target_index = batch['source'], batch['target']\n",
        "        # 推論\n",
        "        output = model(context_indices)\n",
        "        # 損失計算\n",
        "        loss = criterion(output, target_index)\n",
        "\n",
        "        # 勾配の初期化\n",
        "        optimizer.zero_grad()\n",
        "        # 勾配の計算\n",
        "        loss.backward()\n",
        "        # 学習パラメータ（重み）の更新\n",
        "        optimizer.step()\n",
        "        # 損失の累計\n",
        "        running_loss += loss.item()\n",
        "\n",
        "    # 損失の平均\n",
        "    total_loss = running_loss / len(train_dataloader)\n",
        "\n",
        "    # n回に一度の処理\n",
        "    if epoch % 10 == 0:\n",
        "        # ログの出力\n",
        "        print(f'Epoch {epoch}, Loss: {total_loss:4f}')\n",
        "        # テスト\n",
        "        test_dataset.test(model)"
      ],
      "metadata": {
        "id": "T65y90Omr3_2",
        "colab": {
          "base_uri": "https://localhost:8080/",
          "height": 1000
        },
        "outputId": "904d1bf6-5f27-49b5-b525-7c048fe3f363"
      },
      "execution_count": null,
      "outputs": [
        {
          "output_type": "display_data",
          "data": {
            "text/plain": [
              "<IPython.core.display.HTML object>"
            ],
            "text/html": [
              "\n",
              "  <style>\n",
              "    pre {\n",
              "        white-space: pre-wrap;\n",
              "    }\n",
              "  </style>\n",
              "  "
            ]
          },
          "metadata": {}
        },
        {
          "output_type": "stream",
          "name": "stdout",
          "text": [
            "Epoch 0, Loss: 5.160475\n",
            "this animal is : dog : spots\n",
            "Epoch 10, Loss: 3.190813\n",
            "the dog out : from : .\n",
            "Epoch 20, Loss: 2.581051\n",
            "the dog perched : regally : .\n",
            "Epoch 30, Loss: 2.090761\n",
            "quick brown cat : jumps : in\n",
            "Epoch 40, Loss: 1.705437\n",
            "the dog out : from : its\n",
            "Epoch 50, Loss: 1.413145\n",
            "buy more cat : food : food\n",
            "Epoch 60, Loss: 1.194449\n",
            "quick brown cat : jumps : in\n",
            "Epoch 70, Loss: 1.031466\n",
            "buy more cat : food : food\n",
            "Epoch 80, Loss: 0.910929\n",
            "quick brown cat : jumps : in\n",
            "Epoch 90, Loss: 0.818127\n",
            "the dog out : from : its\n",
            "Epoch 100, Loss: 0.754357\n",
            "cat stalked a : dust : dust\n",
            "Epoch 110, Loss: 0.708126\n",
            "buy more cat : food : food\n",
            "Epoch 120, Loss: 0.676135\n",
            "the old cat : hobbled : ,\n",
            "Epoch 130, Loss: 0.652839\n",
            "quick brown cat : jumps : jumps\n",
            "Epoch 140, Loss: 0.638570\n",
            "fido the cat : would : ,\n",
            "Epoch 150, Loss: 0.628520\n",
            "the dog out : from : its\n",
            "Epoch 160, Loss: 0.621440\n",
            "cat stalked a : dust : dust\n",
            "Epoch 170, Loss: 0.616942\n",
            "this animal is : dog : cat\n",
            "Epoch 180, Loss: 0.612559\n",
            "the dog out : from : its\n",
            "Epoch 190, Loss: 0.611329\n",
            "quick brown cat : jumps : jumps\n",
            "Epoch 200, Loss: 0.608839\n",
            "luna the cat : spent : bravely\n",
            "Epoch 210, Loss: 0.606773\n",
            "buy more cat : food : food\n",
            "Epoch 220, Loss: 0.606684\n",
            "neighbor ' s : dog : cat\n",
            "Epoch 230, Loss: 0.605698\n",
            "quick brown cat : jumps : jumps\n",
            "Epoch 240, Loss: 0.604105\n",
            "neighbor ' s : dog : cat\n",
            "Epoch 250, Loss: 0.604858\n",
            "cat and the : dog : ,\n",
            "Epoch 260, Loss: 0.604877\n",
            "cat and the : dog : ,\n",
            "Epoch 270, Loss: 0.604898\n",
            "cat stalked a : dust : dust\n",
            "Epoch 280, Loss: 0.604394\n",
            "quick brown cat : jumps : fox\n",
            "Epoch 290, Loss: 0.604363\n",
            "the dog perched : regally : on\n"
          ]
        }
      ]
    },
    {
      "cell_type": "markdown",
      "source": [
        "# 評価"
      ],
      "metadata": {
        "id": "vBQv8KR8jBsd"
      }
    },
    {
      "cell_type": "code",
      "source": [
        "# 次の単語を予測\n",
        "test_dataset.test(model)"
      ],
      "metadata": {
        "id": "M_0m6ngcnJv3",
        "colab": {
          "base_uri": "https://localhost:8080/",
          "height": 35
        },
        "outputId": "08268131-adc7-4114-ab84-135d92ef724a"
      },
      "execution_count": null,
      "outputs": [
        {
          "output_type": "display_data",
          "data": {
            "text/plain": [
              "<IPython.core.display.HTML object>"
            ],
            "text/html": [
              "\n",
              "  <style>\n",
              "    pre {\n",
              "        white-space: pre-wrap;\n",
              "    }\n",
              "  </style>\n",
              "  "
            ]
          },
          "metadata": {}
        },
        {
          "output_type": "stream",
          "name": "stdout",
          "text": [
            "cat stalked a : dust : dust\n"
          ]
        }
      ]
    },
    {
      "cell_type": "code",
      "source": [
        "# 重みの表示\n",
        "model.embeddings.weight"
      ],
      "metadata": {
        "id": "dXxPRQCdqcKL",
        "colab": {
          "base_uri": "https://localhost:8080/",
          "height": 181
        },
        "outputId": "5f088771-c82d-45a9-e173-45593761b967"
      },
      "execution_count": null,
      "outputs": [
        {
          "output_type": "display_data",
          "data": {
            "text/plain": [
              "<IPython.core.display.HTML object>"
            ],
            "text/html": [
              "\n",
              "  <style>\n",
              "    pre {\n",
              "        white-space: pre-wrap;\n",
              "    }\n",
              "  </style>\n",
              "  "
            ]
          },
          "metadata": {}
        },
        {
          "output_type": "execute_result",
          "data": {
            "text/plain": [
              "Parameter containing:\n",
              "tensor([[-0.8693, -0.6430,  0.9806,  ..., -1.1147, -0.3991,  1.7156],\n",
              "        [ 1.2227, -3.1026,  0.1475,  ..., -2.2515,  1.6006, -0.6037],\n",
              "        [-2.3367,  2.5572, -2.6345,  ..., -0.0532,  0.4508,  0.7829],\n",
              "        ...,\n",
              "        [-4.6001, -0.7135, -3.9227,  ...,  3.7509,  0.0690,  3.2888],\n",
              "        [ 4.7064, -3.1684, -3.7181,  ...,  0.5270,  2.7482,  0.7752],\n",
              "        [-1.6228, -3.6499, -3.0329,  ...,  4.4151,  2.7994, -0.1086]],\n",
              "       requires_grad=True)"
            ]
          },
          "metadata": {},
          "execution_count": 50
        }
      ]
    }
  ]
}