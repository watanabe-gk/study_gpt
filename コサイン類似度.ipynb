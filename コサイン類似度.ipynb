{
  "nbformat": 4,
  "nbformat_minor": 0,
  "metadata": {
    "colab": {
      "provenance": [],
      "collapsed_sections": [
        "zjevKjz1xFix"
      ],
      "include_colab_link": true
    },
    "kernelspec": {
      "name": "python3",
      "display_name": "Python 3"
    },
    "language_info": {
      "name": "python"
    }
  },
  "cells": [
    {
      "cell_type": "markdown",
      "metadata": {
        "id": "view-in-github",
        "colab_type": "text"
      },
      "source": [
        "<a href=\"https://colab.research.google.com/github/watanabe-gk/study_gpt/blob/main/%E3%82%B3%E3%82%B5%E3%82%A4%E3%83%B3%E9%A1%9E%E4%BC%BC%E5%BA%A6.ipynb\" target=\"_parent\"><img src=\"https://colab.research.google.com/assets/colab-badge.svg\" alt=\"Open In Colab\"/></a>"
      ]
    },
    {
      "cell_type": "markdown",
      "source": [
        "# モジュールのインストール"
      ],
      "metadata": {
        "id": "ZVoU47EWxhRG"
      }
    },
    {
      "cell_type": "markdown",
      "source": [
        "https://fasttext.cc/docs/en/english-vectors.html"
      ],
      "metadata": {
        "id": "XDESEMA2JmIT"
      }
    },
    {
      "cell_type": "markdown",
      "source": [
        "2017年版のWikipedia、UMBC ウェブベース コーパス、 statmt.org ニュースの データセット (16億トークン) で学習された 100 万単語のベクトルを利用します。"
      ],
      "metadata": {
        "id": "dMYaEWB0htxx"
      }
    },
    {
      "cell_type": "code",
      "source": [
        "#@title 学習済み埋め込みベクトルのダウンロード\n",
        "!wget https://dl.fbaipublicfiles.com/fasttext/vectors-english/wiki-news-300d-1M.vec.zip\n",
        "!unzip wiki-news-300d-1M.vec.zip\n",
        "!git clone https://github.com/Michi-123/whiteGPT"
      ],
      "metadata": {
        "id": "_YHZbqruJ1S1",
        "colab": {
          "base_uri": "https://localhost:8080/"
        },
        "outputId": "d4299fcb-3095-4a2d-dd7e-ce2f9535b177"
      },
      "execution_count": null,
      "outputs": [
        {
          "output_type": "stream",
          "name": "stdout",
          "text": [
            "--2024-11-28 04:48:16--  https://dl.fbaipublicfiles.com/fasttext/vectors-english/wiki-news-300d-1M.vec.zip\n",
            "Resolving dl.fbaipublicfiles.com (dl.fbaipublicfiles.com)... 13.226.210.25, 13.226.210.78, 13.226.210.15, ...\n",
            "Connecting to dl.fbaipublicfiles.com (dl.fbaipublicfiles.com)|13.226.210.25|:443... connected.\n",
            "HTTP request sent, awaiting response... 200 OK\n",
            "Length: 681808098 (650M) [application/zip]\n",
            "Saving to: ‘wiki-news-300d-1M.vec.zip’\n",
            "\n",
            "wiki-news-300d-1M.v 100%[===================>] 650.22M  99.2MB/s    in 6.4s    \n",
            "\n",
            "2024-11-28 04:48:22 (101 MB/s) - ‘wiki-news-300d-1M.vec.zip’ saved [681808098/681808098]\n",
            "\n",
            "Archive:  wiki-news-300d-1M.vec.zip\n",
            "  inflating: wiki-news-300d-1M.vec   \n",
            "Cloning into 'whiteGPT'...\n",
            "remote: Enumerating objects: 1255, done.\u001b[K\n",
            "remote: Counting objects: 100% (91/91), done.\u001b[K\n",
            "remote: Compressing objects: 100% (62/62), done.\u001b[K\n",
            "remote: Total 1255 (delta 59), reused 58 (delta 29), pack-reused 1164 (from 1)\u001b[K\n",
            "Receiving objects: 100% (1255/1255), 136.83 MiB | 17.03 MiB/s, done.\n",
            "Resolving deltas: 100% (718/718), done.\n",
            "Updating files: 100% (73/73), done.\n"
          ]
        }
      ]
    },
    {
      "cell_type": "code",
      "source": [
        "import numpy as np\n",
        "from matplotlib import pyplot as plt\n",
        "from whiteGPT import word2vec"
      ],
      "metadata": {
        "id": "-ZnXccbc4UEi"
      },
      "execution_count": null,
      "outputs": []
    },
    {
      "cell_type": "code",
      "source": [
        "# @markdown ベクトルの読み込み\n",
        "vec_file_path = '/content/wiki-news-300d-1M.vec' #@param{type:'string'}\n",
        "vectors = word2vec.load_vectors(vec_file_path)"
      ],
      "metadata": {
        "id": "ZAfWXAmfJrjY",
        "colab": {
          "base_uri": "https://localhost:8080/",
          "height": 17
        },
        "outputId": "d2d52234-a454-4276-a21b-af140bc46912"
      },
      "execution_count": null,
      "outputs": [
        {
          "output_type": "display_data",
          "data": {
            "text/plain": [
              "<IPython.core.display.HTML object>"
            ],
            "text/html": [
              "\n",
              "  <style>\n",
              "    pre {\n",
              "        white-space: pre-wrap;\n",
              "    }\n",
              "  </style>\n",
              "  "
            ]
          },
          "metadata": {}
        }
      ]
    },
    {
      "cell_type": "code",
      "source": [
        "# ベクトルの表示\n"
      ],
      "metadata": {
        "id": "uF8f7TdmMom4"
      },
      "execution_count": null,
      "outputs": []
    },
    {
      "cell_type": "code",
      "source": [
        "# 埋め込みベクトルのグラフ\n",
        "labels = np.arange(300)\n",
        "plt.bar(labels,  vectors['paper'])"
      ],
      "metadata": {
        "id": "SvKPuJ7j4VtY",
        "colab": {
          "base_uri": "https://localhost:8080/",
          "height": 448
        },
        "outputId": "b329b978-542d-4a74-fe90-7323222ae1d5"
      },
      "execution_count": null,
      "outputs": [
        {
          "output_type": "display_data",
          "data": {
            "text/plain": [
              "<IPython.core.display.HTML object>"
            ],
            "text/html": [
              "\n",
              "  <style>\n",
              "    pre {\n",
              "        white-space: pre-wrap;\n",
              "    }\n",
              "  </style>\n",
              "  "
            ]
          },
          "metadata": {}
        },
        {
          "output_type": "execute_result",
          "data": {
            "text/plain": [
              "<BarContainer object of 300 artists>"
            ]
          },
          "metadata": {},
          "execution_count": 7
        },
        {
          "output_type": "display_data",
          "data": {
            "text/plain": [
              "<Figure size 640x480 with 1 Axes>"
            ],
            "image/png": "[encoded data removed]"
          },
          "metadata": {}
        }
      ]
    },
    {
      "cell_type": "markdown",
      "source": [
        "# コサイン類似度"
      ],
      "metadata": {
        "id": "KoIni0r1RjtI"
      }
    },
    {
      "cell_type": "markdown",
      "source": [
        "\n",
        "$$\n",
        "\\text{cosine_similarity}(A,B)=\n",
        "\\frac{A⋅B}{||A||\\space||B||}\n",
        "​$$\n"
      ],
      "metadata": {
        "id": "12QRDGgFbbW1"
      }
    },
    {
      "cell_type": "code",
      "source": [
        "# @title コサイン類似度の計算\n",
        "import numpy as np\n",
        "\n",
        "def cosine_similarity(vec1, vec2):\n",
        "    dot = np.dot(vec1, vec2)\n",
        "    # Linear algebra（線形代数）ライブラリの利用\n",
        "    norm1 = np.linalg.norm(vec1)\n",
        "    norm2 = np.linalg.norm(vec2)\n",
        "    norm = norm1 * norm2\n",
        "\n",
        "    similarity = dot / norm\n",
        "\n",
        "    return similarity"
      ],
      "metadata": {
        "id": "MLQWuyd-Se30",
        "colab": {
          "base_uri": "https://localhost:8080/",
          "height": 17
        },
        "outputId": "2f742f6c-f2e7-428d-c618-3bd71afeeb9c"
      },
      "execution_count": null,
      "outputs": [
        {
          "output_type": "display_data",
          "data": {
            "text/plain": [
              "<IPython.core.display.HTML object>"
            ],
            "text/html": [
              "\n",
              "  <style>\n",
              "    pre {\n",
              "        white-space: pre-wrap;\n",
              "    }\n",
              "  </style>\n",
              "  "
            ]
          },
          "metadata": {}
        }
      ]
    },
    {
      "cell_type": "code",
      "source": [
        "# 適当なテスト用のベクトルを作成\n",
        "vector1 = np.array([0.1, 0.2, 0.3])\n",
        "vector2 = np.array([-0.3, -0.2, -0.1])\n",
        "\n",
        "# コサイン類似度の計算\n",
        "similarity = cosine_similarity(vector1, vector2)\n",
        "print(\"Cosine Similarity:\", similarity)"
      ],
      "metadata": {
        "id": "pE53gcRKUTVM",
        "colab": {
          "base_uri": "https://localhost:8080/",
          "height": 35
        },
        "outputId": "16a79bc8-e54a-46fe-dd95-b7e620757325"
      },
      "execution_count": null,
      "outputs": [
        {
          "output_type": "display_data",
          "data": {
            "text/plain": [
              "<IPython.core.display.HTML object>"
            ],
            "text/html": [
              "\n",
              "  <style>\n",
              "    pre {\n",
              "        white-space: pre-wrap;\n",
              "    }\n",
              "  </style>\n",
              "  "
            ]
          },
          "metadata": {}
        },
        {
          "output_type": "stream",
          "name": "stdout",
          "text": [
            "Cosine Similarity: -0.7142857142857143\n"
          ]
        }
      ]
    },
    {
      "cell_type": "code",
      "source": [
        "vector1 = vectors['paper']\n",
        "vector2 = vectors['banana']\n",
        "cosine_similarity(vector1, vector2)"
      ],
      "metadata": {
        "id": "dHldxRkBUC9F",
        "colab": {
          "base_uri": "https://localhost:8080/",
          "height": 35
        },
        "outputId": "f7ec30c4-f98c-4440-868d-5aa35c6a5ffc"
      },
      "execution_count": null,
      "outputs": [
        {
          "output_type": "display_data",
          "data": {
            "text/plain": [
              "<IPython.core.display.HTML object>"
            ],
            "text/html": [
              "\n",
              "  <style>\n",
              "    pre {\n",
              "        white-space: pre-wrap;\n",
              "    }\n",
              "  </style>\n",
              "  "
            ]
          },
          "metadata": {}
        },
        {
          "output_type": "execute_result",
          "data": {
            "text/plain": [
              "0.38695389573492"
            ]
          },
          "metadata": {},
          "execution_count": 8
        }
      ]
    },
    {
      "cell_type": "markdown",
      "source": [
        "近いベクトルを抽出"
      ],
      "metadata": {
        "id": "E3sxDm_Zm6DX"
      }
    },
    {
      "cell_type": "code",
      "source": [
        "# 基準となるベクトルと他のベクトルとの類似度を調べます。\n",
        "vector1 = vectors['travels']\n",
        "\n",
        "similarities = []\n",
        "\n",
        "for key, vector2 in vectors.items():\n",
        "    similarity = cosine_similarity(vector1, vector2)\n",
        "\n",
        "    # 類似度が0.6超のベクトルを収集\n",
        "    if similarity > 0.6 :\n",
        "        similarities.append([similarity, key])"
      ],
      "metadata": {
        "id": "TmxnV8gzm6Nu",
        "colab": {
          "base_uri": "https://localhost:8080/",
          "height": 17
        },
        "outputId": "1a17768a-c95b-45c5-f1aa-183a611b42b9"
      },
      "execution_count": null,
      "outputs": [
        {
          "output_type": "display_data",
          "data": {
            "text/plain": [
              "<IPython.core.display.HTML object>"
            ],
            "text/html": [
              "\n",
              "  <style>\n",
              "    pre {\n",
              "        white-space: pre-wrap;\n",
              "    }\n",
              "  </style>\n",
              "  "
            ]
          },
          "metadata": {}
        }
      ]
    },
    {
      "cell_type": "code",
      "source": [
        "# 収集したベクトルの数\n",
        "len(similarities)"
      ],
      "metadata": {
        "id": "W6ESb1Vtw2PK",
        "colab": {
          "base_uri": "https://localhost:8080/",
          "height": 35
        },
        "outputId": "9e3c751d-2a31-4714-bc1b-303cbebae307"
      },
      "execution_count": null,
      "outputs": [
        {
          "output_type": "display_data",
          "data": {
            "text/plain": [
              "<IPython.core.display.HTML object>"
            ],
            "text/html": [
              "\n",
              "  <style>\n",
              "    pre {\n",
              "        white-space: pre-wrap;\n",
              "    }\n",
              "  </style>\n",
              "  "
            ]
          },
          "metadata": {}
        },
        {
          "output_type": "execute_result",
          "data": {
            "text/plain": [
              "11"
            ]
          },
          "metadata": {},
          "execution_count": 10
        }
      ]
    },
    {
      "cell_type": "code",
      "source": [
        "# 類似度の降順で並べ替え\n",
        "similarities.sort(reverse=True)"
      ],
      "metadata": {
        "id": "6fVu9qXzw9Ix",
        "colab": {
          "base_uri": "https://localhost:8080/",
          "height": 17
        },
        "outputId": "4dc4e6c1-d382-44c6-dce9-b7e681517191"
      },
      "execution_count": null,
      "outputs": [
        {
          "output_type": "display_data",
          "data": {
            "text/plain": [
              "<IPython.core.display.HTML object>"
            ],
            "text/html": [
              "\n",
              "  <style>\n",
              "    pre {\n",
              "        white-space: pre-wrap;\n",
              "    }\n",
              "  </style>\n",
              "  "
            ]
          },
          "metadata": {}
        }
      ]
    },
    {
      "cell_type": "code",
      "source": [
        "# 先頭n件の表示\n",
        "similarities[:10]"
      ],
      "metadata": {
        "id": "JJn0LR4FvycG",
        "colab": {
          "base_uri": "https://localhost:8080/",
          "height": 200
        },
        "outputId": "cb612206-5141-43e2-fb64-590c4b715bf0"
      },
      "execution_count": null,
      "outputs": [
        {
          "output_type": "display_data",
          "data": {
            "text/plain": [
              "<IPython.core.display.HTML object>"
            ],
            "text/html": [
              "\n",
              "  <style>\n",
              "    pre {\n",
              "        white-space: pre-wrap;\n",
              "    }\n",
              "  </style>\n",
              "  "
            ]
          },
          "metadata": {}
        },
        {
          "output_type": "execute_result",
          "data": {
            "text/plain": [
              "[[0.9999999999999998, 'travels'],\n",
              " [0.7265254232306232, 'traveled'],\n",
              " [0.7124680136520343, 'traveling'],\n",
              " [0.706438410229365, 'travelled'],\n",
              " [0.688254091409487, 'travel'],\n",
              " [0.6668341446856703, 'travelling'],\n",
              " [0.6634190104185295, 'journeys'],\n",
              " [0.6481449594261749, 'journey'],\n",
              " [0.6096137938210074, 'trips'],\n",
              " [0.6067351872321227, 'encounters']]"
            ]
          },
          "metadata": {},
          "execution_count": 13
        }
      ]
    },
    {
      "cell_type": "markdown",
      "source": [
        "# ベクトル空間の四則演算の例を確認します"
      ],
      "metadata": {
        "id": "jU9lpAMRXdIe"
      }
    },
    {
      "cell_type": "markdown",
      "source": [
        "王 - 男 + 女 = 女王？"
      ],
      "metadata": {
        "id": "DGY_B7TD8bGK"
      }
    },
    {
      "cell_type": "code",
      "source": [
        "# king - man + woman\n",
        "king = vectors['king']\n",
        "queen = vectors['queen']\n",
        "man = vectors['man']\n",
        "woman = vectors['woman']\n",
        "cosine_similarity(king - man + woman, queen)"
      ],
      "metadata": {
        "id": "hpB_YTa0wkFm",
        "colab": {
          "base_uri": "https://localhost:8080/",
          "height": 35
        },
        "outputId": "2a963b61-c68a-4dbb-a2b7-169cab62d978"
      },
      "execution_count": null,
      "outputs": [
        {
          "output_type": "display_data",
          "data": {
            "text/plain": [
              "<IPython.core.display.HTML object>"
            ],
            "text/html": [
              "\n",
              "  <style>\n",
              "    pre {\n",
              "        white-space: pre-wrap;\n",
              "    }\n",
              "  </style>\n",
              "  "
            ]
          },
          "metadata": {}
        },
        {
          "output_type": "execute_result",
          "data": {
            "text/plain": [
              "0.7673766998589789"
            ]
          },
          "metadata": {},
          "execution_count": 24
        }
      ]
    },
    {
      "cell_type": "markdown",
      "source": [
        "夏 - 暑い + 寒い = 冬？"
      ],
      "metadata": {
        "id": "nKUBVU7hwsXS"
      }
    },
    {
      "cell_type": "code",
      "source": [
        "# 基準となるベクトル\n",
        "hot = vectors['hot']\n",
        "cold = vectors['cold']\n",
        "summer = vectors['summer']\n",
        "winter = vectors['winter']"
      ],
      "metadata": {
        "id": "uJh9xhA9zG1x",
        "colab": {
          "base_uri": "https://localhost:8080/",
          "height": 17
        },
        "outputId": "1e28e4aa-a8f0-475c-c326-03d65630f5f5"
      },
      "execution_count": null,
      "outputs": [
        {
          "output_type": "display_data",
          "data": {
            "text/plain": [
              "<IPython.core.display.HTML object>"
            ],
            "text/html": [
              "\n",
              "  <style>\n",
              "    pre {\n",
              "        white-space: pre-wrap;\n",
              "    }\n",
              "  </style>\n",
              "  "
            ]
          },
          "metadata": {}
        }
      ]
    },
    {
      "cell_type": "code",
      "source": [
        "# hot と cold\n",
        "cosine_similarity(hot, cold)"
      ],
      "metadata": {
        "id": "iAxHsa6Nzfx8",
        "colab": {
          "base_uri": "https://localhost:8080/",
          "height": 35
        },
        "outputId": "1fd455e2-44ca-49b9-d95a-573a00d0980b"
      },
      "execution_count": null,
      "outputs": [
        {
          "output_type": "display_data",
          "data": {
            "text/plain": [
              "<IPython.core.display.HTML object>"
            ],
            "text/html": [
              "\n",
              "  <style>\n",
              "    pre {\n",
              "        white-space: pre-wrap;\n",
              "    }\n",
              "  </style>\n",
              "  "
            ]
          },
          "metadata": {}
        },
        {
          "output_type": "execute_result",
          "data": {
            "text/plain": [
              "0.712784465178353"
            ]
          },
          "metadata": {},
          "execution_count": 16
        }
      ]
    },
    {
      "cell_type": "code",
      "source": [
        "# hot と summer\n",
        "cosine_similarity(hot, summer)"
      ],
      "metadata": {
        "id": "2cVqZPJAEerM",
        "colab": {
          "base_uri": "https://localhost:8080/",
          "height": 35
        },
        "outputId": "b8d247a5-7463-4ada-c9e2-ac4d3d057ccd"
      },
      "execution_count": null,
      "outputs": [
        {
          "output_type": "display_data",
          "data": {
            "text/plain": [
              "<IPython.core.display.HTML object>"
            ],
            "text/html": [
              "\n",
              "  <style>\n",
              "    pre {\n",
              "        white-space: pre-wrap;\n",
              "    }\n",
              "  </style>\n",
              "  "
            ]
          },
          "metadata": {}
        },
        {
          "output_type": "execute_result",
          "data": {
            "text/plain": [
              "0.4838471573685533"
            ]
          },
          "metadata": {},
          "execution_count": 17
        }
      ]
    },
    {
      "cell_type": "code",
      "source": [
        "# summer と winter\n",
        "cosine_similarity(summer, winter)"
      ],
      "metadata": {
        "id": "AFSlMXbBakYH",
        "colab": {
          "base_uri": "https://localhost:8080/",
          "height": 35
        },
        "outputId": "f3efc38d-a5b6-4481-bc40-b975e2507cf2"
      },
      "execution_count": null,
      "outputs": [
        {
          "output_type": "display_data",
          "data": {
            "text/plain": [
              "<IPython.core.display.HTML object>"
            ],
            "text/html": [
              "\n",
              "  <style>\n",
              "    pre {\n",
              "        white-space: pre-wrap;\n",
              "    }\n",
              "  </style>\n",
              "  "
            ]
          },
          "metadata": {}
        },
        {
          "output_type": "execute_result",
          "data": {
            "text/plain": [
              "0.8376738582256028"
            ]
          },
          "metadata": {},
          "execution_count": 18
        }
      ]
    },
    {
      "cell_type": "code",
      "source": [
        "# (summer - hot + cold)と winter\n",
        "cosine_similarity(summer - hot + cold, winter)"
      ],
      "metadata": {
        "id": "bw73i5eBa8CQ",
        "colab": {
          "base_uri": "https://localhost:8080/",
          "height": 35
        },
        "outputId": "329e1c08-30d5-4b8d-9590-b449e6315dd1"
      },
      "execution_count": null,
      "outputs": [
        {
          "output_type": "display_data",
          "data": {
            "text/plain": [
              "<IPython.core.display.HTML object>"
            ],
            "text/html": [
              "\n",
              "  <style>\n",
              "    pre {\n",
              "        white-space: pre-wrap;\n",
              "    }\n",
              "  </style>\n",
              "  "
            ]
          },
          "metadata": {}
        },
        {
          "output_type": "execute_result",
          "data": {
            "text/plain": [
              "0.7816870725903828"
            ]
          },
          "metadata": {},
          "execution_count": 19
        }
      ]
    },
    {
      "cell_type": "code",
      "source": [
        "# `hot`ベクトルとは\n",
        "labels = np.arange(300)\n",
        "plt.bar(labels, hot)"
      ],
      "metadata": {
        "id": "yd3Xb0fL5HOj",
        "colab": {
          "base_uri": "https://localhost:8080/",
          "height": 448
        },
        "outputId": "90611567-93dc-4a00-fb83-a60e8bb98e7b"
      },
      "execution_count": null,
      "outputs": [
        {
          "output_type": "display_data",
          "data": {
            "text/plain": [
              "<IPython.core.display.HTML object>"
            ],
            "text/html": [
              "\n",
              "  <style>\n",
              "    pre {\n",
              "        white-space: pre-wrap;\n",
              "    }\n",
              "  </style>\n",
              "  "
            ]
          },
          "metadata": {}
        },
        {
          "output_type": "execute_result",
          "data": {
            "text/plain": [
              "<BarContainer object of 300 artists>"
            ]
          },
          "metadata": {},
          "execution_count": 21
        },
        {
          "output_type": "display_data",
          "data": {
            "text/plain": [
              "<Figure size 640x480 with 1 Axes>"
            ],
            "image/png": "[encoded data removed]"
          },
          "metadata": {}
        }
      ]
    },
    {
      "cell_type": "code",
      "source": [
        "#@title 特徴ベクトルの作成\n",
        "def create_feature_vectors(vectors, keys):\n",
        "\n",
        "    feature_vectors = np.zeros(300)\n",
        "\n",
        "    for key in keys:\n",
        "        feature_vectors += vectors[key]\n",
        "\n",
        "    feature_vectors /= len(keys)\n",
        "\n",
        "    return feature_vectors"
      ],
      "metadata": {
        "id": "11fl7j0h9jYH",
        "colab": {
          "base_uri": "https://localhost:8080/",
          "height": 17
        },
        "outputId": "e4235b5c-da97-4243-91b0-ee8a44fdebb9"
      },
      "execution_count": null,
      "outputs": [
        {
          "output_type": "display_data",
          "data": {
            "text/plain": [
              "<IPython.core.display.HTML object>"
            ],
            "text/html": [
              "\n",
              "  <style>\n",
              "    pre {\n",
              "        white-space: pre-wrap;\n",
              "    }\n",
              "  </style>\n",
              "  "
            ]
          },
          "metadata": {}
        }
      ]
    },
    {
      "cell_type": "code",
      "source": [
        "#@title 暑さの特徴ベクトルを見つける\n",
        "\n",
        "# 暑い（熱い）単語\n",
        "keys_hot = ['hot', 'boiling', 'beach', 'heat', 'August', 'burn', 'swimming']\n",
        "\n",
        "# 寒い（冷たい）単語\n",
        "keys_cold = ['cold', 'ice', 'winter', 'frozen', 'water', 'snow', 'coat', 'skiing']\n",
        "\n",
        "# 特徴ベクトルの作成\n",
        "feature_hot = create_feature_vectors(vectors, keys_hot)\n",
        "feature_cold = create_feature_vectors(vectors, keys_cold)"
      ],
      "metadata": {
        "id": "W06QCcu0n1Hz",
        "colab": {
          "base_uri": "https://localhost:8080/",
          "height": 17
        },
        "outputId": "33b15cf9-d464-43b2-86c2-ca7c16dc6990"
      },
      "execution_count": null,
      "outputs": [
        {
          "output_type": "display_data",
          "data": {
            "text/plain": [
              "<IPython.core.display.HTML object>"
            ],
            "text/html": [
              "\n",
              "  <style>\n",
              "    pre {\n",
              "        white-space: pre-wrap;\n",
              "    }\n",
              "  </style>\n",
              "  "
            ]
          },
          "metadata": {}
        }
      ]
    },
    {
      "cell_type": "code",
      "source": [
        "# (summer - 暑さの特徴 + 寒さの特徴)と winter\n",
        "cosine_similarity(summer - feature_hot + feature_cold, winter)"
      ],
      "metadata": {
        "id": "YVQLqTauVdjC",
        "colab": {
          "base_uri": "https://localhost:8080/",
          "height": 35
        },
        "outputId": "2102ce6a-657c-45bc-cea6-ff3a8125dfdc"
      },
      "execution_count": null,
      "outputs": [
        {
          "output_type": "display_data",
          "data": {
            "text/plain": [
              "<IPython.core.display.HTML object>"
            ],
            "text/html": [
              "\n",
              "  <style>\n",
              "    pre {\n",
              "        white-space: pre-wrap;\n",
              "    }\n",
              "  </style>\n",
              "  "
            ]
          },
          "metadata": {}
        },
        {
          "output_type": "execute_result",
          "data": {
            "text/plain": [
              "0.8831522640795191"
            ]
          },
          "metadata": {},
          "execution_count": 33
        }
      ]
    },
    {
      "cell_type": "code",
      "source": [
        "# 温度の特徴ベクトル\n",
        "temperature = feature_hot - feature_cold"
      ],
      "metadata": {
        "id": "qWEO7ZGuijUN",
        "colab": {
          "base_uri": "https://localhost:8080/",
          "height": 17
        },
        "outputId": "63a621e6-43e4-4ef5-a819-d036a4abc54c"
      },
      "execution_count": null,
      "outputs": [
        {
          "output_type": "display_data",
          "data": {
            "text/plain": [
              "<IPython.core.display.HTML object>"
            ],
            "text/html": [
              "\n",
              "  <style>\n",
              "    pre {\n",
              "        white-space: pre-wrap;\n",
              "    }\n",
              "  </style>\n",
              "  "
            ]
          },
          "metadata": {}
        }
      ]
    },
    {
      "cell_type": "code",
      "source": [
        "# 本来の暑さとの関係はない（直交ベクトル）\n",
        "cosine_similarity(temperature , hot)"
      ],
      "metadata": {
        "id": "cRYHwGXM0pnI",
        "colab": {
          "base_uri": "https://localhost:8080/",
          "height": 35
        },
        "outputId": "5a358b6e-f3c5-455d-f89d-f3d03b442bf1"
      },
      "execution_count": null,
      "outputs": [
        {
          "output_type": "display_data",
          "data": {
            "text/plain": [
              "<IPython.core.display.HTML object>"
            ],
            "text/html": [
              "\n",
              "  <style>\n",
              "    pre {\n",
              "        white-space: pre-wrap;\n",
              "    }\n",
              "  </style>\n",
              "  "
            ]
          },
          "metadata": {}
        },
        {
          "output_type": "execute_result",
          "data": {
            "text/plain": [
              "0.14435782506465708"
            ]
          },
          "metadata": {},
          "execution_count": 35
        }
      ]
    },
    {
      "cell_type": "code",
      "source": [
        "# 温度の特徴ベクトルを可視化\n",
        "labels = np.arange(300)\n",
        "plt.bar(labels, temperature)"
      ],
      "metadata": {
        "id": "rnZMPx_zGXFF",
        "colab": {
          "base_uri": "https://localhost:8080/",
          "height": 448
        },
        "outputId": "72635f67-e501-48f0-9414-a0590aff51f9"
      },
      "execution_count": null,
      "outputs": [
        {
          "output_type": "display_data",
          "data": {
            "text/plain": [
              "<IPython.core.display.HTML object>"
            ],
            "text/html": [
              "\n",
              "  <style>\n",
              "    pre {\n",
              "        white-space: pre-wrap;\n",
              "    }\n",
              "  </style>\n",
              "  "
            ]
          },
          "metadata": {}
        },
        {
          "output_type": "execute_result",
          "data": {
            "text/plain": [
              "<BarContainer object of 300 artists>"
            ]
          },
          "metadata": {},
          "execution_count": 36
        },
        {
          "output_type": "display_data",
          "data": {
            "text/plain": [
              "<Figure size 640x480 with 1 Axes>"
            ],
            "image/png": "[encoded data removed]"
          },
          "metadata": {}
        }
      ]
    },
    {
      "cell_type": "code",
      "source": [
        "# @title 練習\n",
        "# king - man + woman = queen になるように、特徴ベクトルを見つけてみましょう\n",
        "\n",
        "# 男性の特徴\n",
        "keys_man = ['man']\n",
        "# 女性の特徴\n",
        "keys_woman = ['woman']\n",
        "\n",
        "# 特徴ベクトルの作成\n",
        "feature_man = create_feature_vectors(vectors, keys_man)\n",
        "feature_woman = create_feature_vectors(vectors, keys_woman)\n",
        "\n",
        "# コサイン類似度\n",
        "cosine_similarity(king - feature_man + feature_woman, queen)"
      ],
      "metadata": {
        "id": "gH6WKzztPkp4",
        "colab": {
          "base_uri": "https://localhost:8080/",
          "height": 35
        },
        "outputId": "89d5e85f-dae0-407c-d923-e3213699219a"
      },
      "execution_count": null,
      "outputs": [
        {
          "output_type": "display_data",
          "data": {
            "text/plain": [
              "<IPython.core.display.HTML object>"
            ],
            "text/html": [
              "\n",
              "  <style>\n",
              "    pre {\n",
              "        white-space: pre-wrap;\n",
              "    }\n",
              "  </style>\n",
              "  "
            ]
          },
          "metadata": {}
        },
        {
          "output_type": "execute_result",
          "data": {
            "text/plain": [
              "0.7673766998589789"
            ]
          },
          "metadata": {},
          "execution_count": 42
        }
      ]
    },
    {
      "cell_type": "code",
      "source": [
        "# @title king - man + woman の例\n",
        "king = vectors['king']\n",
        "queen = vectors['queen']\n",
        "\n",
        "# 男性の特徴\n",
        "keys_man = ['male','boy','father','brother','beard','prince']\n",
        "feature_man = create_feature_vectors(vectors, keys_man)\n",
        "\n",
        "# 女性の特徴\n",
        "keys_woman = ['female','girl','mother','sister','hair','princess']\n",
        "feature_woman = create_feature_vectors(vectors, keys_woman)\n",
        "\n",
        "cosine_similarity(king - feature_man + feature_woman*1.0, queen)"
      ],
      "metadata": {
        "cellView": "form",
        "id": "Fneqt65N8Qj6"
      },
      "execution_count": null,
      "outputs": []
    },
    {
      "cell_type": "markdown",
      "source": [
        "# 同じキーを取り出せるか？"
      ],
      "metadata": {
        "id": "hJ2GjpwjylmS"
      }
    },
    {
      "cell_type": "code",
      "source": [
        "# @title 類似する項目の検索\n",
        "def search_similar_item(vectors, reference_vector):\n",
        "    # 初期化\n",
        "    max_similar_key = None # 最大の類似キー\n",
        "    max_similarity = -float('inf')  # 最大の類似度\n",
        "    similarity_list = {} # 類似度の一覧\n",
        "\n",
        "    # 全てのベクトルに対して、reference_vectorとの類似度を算出します\n",
        "    for i, key in enumerate(vectors):\n",
        "\n",
        "        # コサイン類似度の算出\n",
        "        similarity = cosine_similarity(reference_vector, vectors[key])\n",
        "\n",
        "        if similarity > 0.6: # 閾値\n",
        "            similarity_list[key] = similarity\n",
        "\n",
        "        # 最大値の更新\n",
        "        if max_similarity < similarity:\n",
        "            max_similarity = similarity\n",
        "            max_similar_key = key\n",
        "\n",
        "    return max_similar_key, max_similarity, similarity_list"
      ],
      "metadata": {
        "id": "_v_WbICklHCc",
        "colab": {
          "base_uri": "https://localhost:8080/",
          "height": 17
        },
        "outputId": "40049235-af9b-4d37-88fc-02bd1e60eef8"
      },
      "execution_count": null,
      "outputs": [
        {
          "output_type": "display_data",
          "data": {
            "text/plain": [
              "<IPython.core.display.HTML object>"
            ],
            "text/html": [
              "\n",
              "  <style>\n",
              "    pre {\n",
              "        white-space: pre-wrap;\n",
              "    }\n",
              "  </style>\n",
              "  "
            ]
          },
          "metadata": {}
        }
      ]
    },
    {
      "cell_type": "code",
      "source": [
        "-float('inf')  # 何を足してもマイナス"
      ],
      "metadata": {
        "id": "J6FuGkl6Ma_h",
        "colab": {
          "base_uri": "https://localhost:8080/",
          "height": 35
        },
        "outputId": "fef925c8-ec7c-4b55-be33-dbe697b6ebf7"
      },
      "execution_count": null,
      "outputs": [
        {
          "output_type": "display_data",
          "data": {
            "text/plain": [
              "<IPython.core.display.HTML object>"
            ],
            "text/html": [
              "\n",
              "  <style>\n",
              "    pre {\n",
              "        white-space: pre-wrap;\n",
              "    }\n",
              "  </style>\n",
              "  "
            ]
          },
          "metadata": {}
        },
        {
          "output_type": "execute_result",
          "data": {
            "text/plain": [
              "-inf"
            ]
          },
          "metadata": {},
          "execution_count": 46
        }
      ]
    },
    {
      "cell_type": "code",
      "source": [
        "# summer - feature_hot + feature_cold\n",
        "reference_vector = summer - feature_hot + feature_cold\n",
        "key, similarity, similarity_list = search_similar_item(vectors, reference_vector)"
      ],
      "metadata": {
        "id": "4M_3ozNtqkJZ",
        "colab": {
          "base_uri": "https://localhost:8080/",
          "height": 17
        },
        "outputId": "9f4cd4cb-a314-4aaa-c9ad-22cc2b5106a5"
      },
      "execution_count": null,
      "outputs": [
        {
          "output_type": "display_data",
          "data": {
            "text/plain": [
              "<IPython.core.display.HTML object>"
            ],
            "text/html": [
              "\n",
              "  <style>\n",
              "    pre {\n",
              "        white-space: pre-wrap;\n",
              "    }\n",
              "  </style>\n",
              "  "
            ]
          },
          "metadata": {}
        }
      ]
    },
    {
      "cell_type": "code",
      "source": [
        "key"
      ],
      "metadata": {
        "colab": {
          "base_uri": "https://localhost:8080/",
          "height": 36
        },
        "id": "McPm63FPRKYe",
        "outputId": "40e7ed5a-9c2c-4bf8-8a7a-4c5ad0293624"
      },
      "execution_count": null,
      "outputs": [
        {
          "output_type": "display_data",
          "data": {
            "text/plain": [
              "<IPython.core.display.HTML object>"
            ],
            "text/html": [
              "\n",
              "  <style>\n",
              "    pre {\n",
              "        white-space: pre-wrap;\n",
              "    }\n",
              "  </style>\n",
              "  "
            ]
          },
          "metadata": {}
        },
        {
          "output_type": "execute_result",
          "data": {
            "text/plain": [
              "'winter'"
            ],
            "application/vnd.google.colaboratory.intrinsic+json": {
              "type": "string"
            }
          },
          "metadata": {},
          "execution_count": 45
        }
      ]
    },
    {
      "cell_type": "code",
      "source": [
        "# king - feature_man + feature_woman\n",
        "reference_vector = king - feature_man + feature_woman\n",
        "key, similarity, similarity_list = search_similar_item(vectors, reference_vector)"
      ],
      "metadata": {
        "id": "Mdc5GP-5oIow",
        "colab": {
          "base_uri": "https://localhost:8080/",
          "height": 17
        },
        "outputId": "a60b49eb-7ac8-496c-f9ba-254312dc4ca1"
      },
      "execution_count": null,
      "outputs": [
        {
          "output_type": "display_data",
          "data": {
            "text/plain": [
              "<IPython.core.display.HTML object>"
            ],
            "text/html": [
              "\n",
              "  <style>\n",
              "    pre {\n",
              "        white-space: pre-wrap;\n",
              "    }\n",
              "  </style>\n",
              "  "
            ]
          },
          "metadata": {}
        }
      ]
    },
    {
      "cell_type": "code",
      "source": [
        "key"
      ],
      "metadata": {
        "colab": {
          "base_uri": "https://localhost:8080/",
          "height": 36
        },
        "id": "N1xzTzFbR6gA",
        "outputId": "645bfb9e-a44b-4549-f0af-0530b9816887"
      },
      "execution_count": null,
      "outputs": [
        {
          "output_type": "display_data",
          "data": {
            "text/plain": [
              "<IPython.core.display.HTML object>"
            ],
            "text/html": [
              "\n",
              "  <style>\n",
              "    pre {\n",
              "        white-space: pre-wrap;\n",
              "    }\n",
              "  </style>\n",
              "  "
            ]
          },
          "metadata": {}
        },
        {
          "output_type": "execute_result",
          "data": {
            "text/plain": [
              "'king'"
            ],
            "application/vnd.google.colaboratory.intrinsic+json": {
              "type": "string"
            }
          },
          "metadata": {},
          "execution_count": 48
        }
      ]
    },
    {
      "cell_type": "code",
      "source": [
        "similarity_list"
      ],
      "metadata": {
        "colab": {
          "base_uri": "https://localhost:8080/",
          "height": 236
        },
        "id": "Z5Cz2XP9R-pn",
        "outputId": "db324d09-16f7-4802-e024-e9b1f76bb306"
      },
      "execution_count": null,
      "outputs": [
        {
          "output_type": "display_data",
          "data": {
            "text/plain": [
              "<IPython.core.display.HTML object>"
            ],
            "text/html": [
              "\n",
              "  <style>\n",
              "    pre {\n",
              "        white-space: pre-wrap;\n",
              "    }\n",
              "  </style>\n",
              "  "
            ]
          },
          "metadata": {}
        },
        {
          "output_type": "execute_result",
          "data": {
            "text/plain": [
              "{'woman': 0.6528975536940479,\n",
              " 'king': 0.8655095024381783,\n",
              " 'royal': 0.6090123954390187,\n",
              " 'kingdom': 0.6208546228107239,\n",
              " 'lady': 0.6286187170018799,\n",
              " 'queen': 0.7673766998589789,\n",
              " 'prince': 0.6222133925566985,\n",
              " 'kings': 0.69295470069991,\n",
              " 'ruler': 0.6064773169620795,\n",
              " 'monarch': 0.6955799884585835,\n",
              " 'princess': 0.6909605180475173,\n",
              " 'monarchs': 0.6011001135135446}"
            ]
          },
          "metadata": {},
          "execution_count": 51
        }
      ]
    },
    {
      "cell_type": "markdown",
      "source": [
        "# 地名で検証"
      ],
      "metadata": {
        "id": "zjevKjz1xFix"
      }
    },
    {
      "cell_type": "code",
      "source": [
        "tokyo = vectors['Tokyo']\n",
        "france = vectors['France']\n",
        "paris = vectors['Paris']\n",
        "japan = vectors['Japan']"
      ],
      "metadata": {
        "id": "FWNkbs1CxJZw",
        "colab": {
          "base_uri": "https://localhost:8080/",
          "height": 17
        },
        "outputId": "ef372ab5-95cb-4fce-8fe1-bd60bb7cdb10"
      },
      "execution_count": null,
      "outputs": [
        {
          "output_type": "display_data",
          "data": {
            "text/plain": [
              "<IPython.core.display.HTML object>"
            ],
            "text/html": [
              "\n",
              "  <style>\n",
              "    pre {\n",
              "        white-space: pre-wrap;\n",
              "    }\n",
              "  </style>\n",
              "  "
            ]
          },
          "metadata": {}
        }
      ]
    },
    {
      "cell_type": "code",
      "source": [
        "# コサイン類似度\n",
        "cosine_similarity(tokyo - japan + france, paris )"
      ],
      "metadata": {
        "id": "emhKpE3txOXG",
        "colab": {
          "base_uri": "https://localhost:8080/",
          "height": 35
        },
        "outputId": "53ab182d-1416-4b47-8ed2-14636183d41e"
      },
      "execution_count": null,
      "outputs": [
        {
          "output_type": "display_data",
          "data": {
            "text/plain": [
              "<IPython.core.display.HTML object>"
            ],
            "text/html": [
              "\n",
              "  <style>\n",
              "    pre {\n",
              "        white-space: pre-wrap;\n",
              "    }\n",
              "  </style>\n",
              "  "
            ]
          },
          "metadata": {}
        },
        {
          "output_type": "execute_result",
          "data": {
            "text/plain": [
              "0.8581427034450735"
            ]
          },
          "metadata": {},
          "execution_count": 56
        }
      ]
    },
    {
      "cell_type": "code",
      "source": [
        "# tokyo - japan + france, paris\n",
        "reference_vector = tokyo - japan + france\n",
        "key, similarity, similarity_list = search_similar_item(vectors, reference_vector)"
      ],
      "metadata": {
        "id": "UzO4qSEtxlWe",
        "colab": {
          "base_uri": "https://localhost:8080/",
          "height": 17
        },
        "outputId": "b45d5bf8-a3ca-4453-ce58-a0e158ca2940"
      },
      "execution_count": null,
      "outputs": [
        {
          "output_type": "display_data",
          "data": {
            "text/plain": [
              "<IPython.core.display.HTML object>"
            ],
            "text/html": [
              "\n",
              "  <style>\n",
              "    pre {\n",
              "        white-space: pre-wrap;\n",
              "    }\n",
              "  </style>\n",
              "  "
            ]
          },
          "metadata": {}
        }
      ]
    },
    {
      "cell_type": "code",
      "source": [
        "key"
      ],
      "metadata": {
        "id": "NTZcAi5wxyj2",
        "colab": {
          "base_uri": "https://localhost:8080/",
          "height": 36
        },
        "outputId": "c134ff37-89e6-48b2-a09e-7978bbd9053c"
      },
      "execution_count": null,
      "outputs": [
        {
          "output_type": "display_data",
          "data": {
            "text/plain": [
              "<IPython.core.display.HTML object>"
            ],
            "text/html": [
              "\n",
              "  <style>\n",
              "    pre {\n",
              "        white-space: pre-wrap;\n",
              "    }\n",
              "  </style>\n",
              "  "
            ]
          },
          "metadata": {}
        },
        {
          "output_type": "execute_result",
          "data": {
            "text/plain": [
              "'Paris'"
            ],
            "application/vnd.google.colaboratory.intrinsic+json": {
              "type": "string"
            }
          },
          "metadata": {},
          "execution_count": 58
        }
      ]
    },
    {
      "cell_type": "code",
      "source": [
        "similarity"
      ],
      "metadata": {
        "id": "mqfl0izkSk70",
        "outputId": "208e8baa-e706-47c8-ed23-ec6f683edd44",
        "colab": {
          "base_uri": "https://localhost:8080/",
          "height": 35
        }
      },
      "execution_count": null,
      "outputs": [
        {
          "output_type": "display_data",
          "data": {
            "text/plain": [
              "<IPython.core.display.HTML object>"
            ],
            "text/html": [
              "\n",
              "  <style>\n",
              "    pre {\n",
              "        white-space: pre-wrap;\n",
              "    }\n",
              "  </style>\n",
              "  "
            ]
          },
          "metadata": {}
        },
        {
          "output_type": "execute_result",
          "data": {
            "text/plain": [
              "0.8581427034450735"
            ]
          },
          "metadata": {},
          "execution_count": 59
        }
      ]
    },
    {
      "cell_type": "code",
      "source": [
        "similarity_list"
      ],
      "metadata": {
        "id": "FYBJN9jpSnLz",
        "outputId": "944a0173-98fe-46f4-b704-af7ecc0675f0",
        "colab": {
          "base_uri": "https://localhost:8080/",
          "height": 236
        }
      },
      "execution_count": null,
      "outputs": [
        {
          "output_type": "display_data",
          "data": {
            "text/plain": [
              "<IPython.core.display.HTML object>"
            ],
            "text/html": [
              "\n",
              "  <style>\n",
              "    pre {\n",
              "        white-space: pre-wrap;\n",
              "    }\n",
              "  </style>\n",
              "  "
            ]
          },
          "metadata": {}
        },
        {
          "output_type": "execute_result",
          "data": {
            "text/plain": [
              "{'London': 0.6492047855513082,\n",
              " 'France': 0.7769600992651912,\n",
              " 'Paris': 0.8581427034450735,\n",
              " 'Moscow': 0.6188102119469614,\n",
              " 'Tokyo': 0.7074563706580035,\n",
              " 'Madrid': 0.6197539955434832,\n",
              " 'Brussels': 0.6365837658519494,\n",
              " 'Lyon': 0.631753234405606,\n",
              " 'Bordeaux': 0.6409008598843248,\n",
              " 'Marseille': 0.6422051102056436,\n",
              " 'Toulouse': 0.6626864245831817,\n",
              " 'Strasbourg': 0.6166382004080776}"
            ]
          },
          "metadata": {},
          "execution_count": 60
        }
      ]
    }
  ]
}